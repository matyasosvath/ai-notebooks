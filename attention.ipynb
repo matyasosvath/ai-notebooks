{
  "cells": [
    {
      "cell_type": "code",
      "execution_count": 1,
      "metadata": {
        "id": "hLo1MWPC5mGD"
      },
      "outputs": [],
      "source": [
        "import math\n",
        "import numpy as np\n",
        "import matplotlib.pyplot as plt\n",
        "\n",
        "import torch\n",
        "from torch import nn\n",
        "import torch.nn.functional as F"
      ]
    },
    {
      "cell_type": "code",
      "execution_count": 2,
      "metadata": {
        "id": "yDD_hlDo5thS"
      },
      "outputs": [],
      "source": [
        "device = torch.device(\"cuda\" if torch.cuda.is_available() else \"cpu\")"
      ]
    },
    {
      "cell_type": "code",
      "execution_count": 3,
      "metadata": {
        "colab": {
          "base_uri": "https://localhost:8080/"
        },
        "collapsed": true,
        "id": "nnYQ5k6R5zfB",
        "outputId": "824ccf56-c085-48c4-ac90-6231e6881c30"
      },
      "outputs": [
        {
          "data": {
            "text/plain": [
              "<torch._C.Generator at 0x78557840abf0>"
            ]
          },
          "execution_count": 3,
          "metadata": {},
          "output_type": "execute_result"
        }
      ],
      "source": [
        "torch.manual_seed(42)"
      ]
    },
    {
      "cell_type": "code",
      "execution_count": 4,
      "metadata": {
        "id": "v13QB5gN51Kr"
      },
      "outputs": [],
      "source": [
        "batch_size = 8                      # b, b_sz\n",
        "context_len = 1024                  # seq_len, context_length, num_tokens, t, n_tokens\n",
        "d_model = 768                       # embed_dim, d_in, d_out, d\n",
        "n_heads = 6                         # h\n",
        "n_groups = 2                        # g\n",
        "head_dim = d_model // n_heads       # d_k, d_v"
      ]
    },
    {
      "cell_type": "code",
      "execution_count": 5,
      "metadata": {
        "id": "GhXfI5uO56Oz"
      },
      "outputs": [],
      "source": [
        "x = torch.randn((batch_size, context_len, d_model), device=device)"
      ]
    },
    {
      "cell_type": "markdown",
      "metadata": {
        "id": "HTpny5Ah6MOl"
      },
      "source": [
        "# Multi-Head Attention (MHA)\n",
        "\n",
        "Vaswani, Ashish, Noam Shazeer, Niki Parmar, Jakob Uszkoreit, Llion Jones, Aidan N. Gomez, Lukasz Kaiser, and Illia Polosukhin. “Attention Is All You Need.” arXiv, 2017. https://doi.org/10.48550/arXiv.1706.03762."
      ]
    },
    {
      "cell_type": "markdown",
      "metadata": {
        "id": "yxWmmWd2Doai"
      },
      "source": [
        "$$\n",
        "\\operatorname{Attention}(Q, K, V)=\\operatorname{softmax}\\left(\\frac{Q K^T}{\\sqrt{d_k}}\\right) V\n",
        "$$"
      ]
    },
    {
      "cell_type": "code",
      "execution_count": 6,
      "metadata": {
        "id": "gvtEoU_J6OEZ"
      },
      "outputs": [],
      "source": [
        "class Head(nn.Module):\n",
        "    def __init__(self, d_model: int, d_out: int, context_length: int, attn_dropout: float = 0.0, qkv_bias: bool = False) -> None:\n",
        "        super().__init__()\n",
        "\n",
        "        self.key = nn.Linear(d_model, d_out, bias = qkv_bias)\n",
        "        self.query = nn.Linear(d_model, d_out, bias = qkv_bias)\n",
        "        self.value = nn.Linear(d_model, d_out, bias = qkv_bias)\n",
        "\n",
        "        # casual mask (another solution)\n",
        "        # self.register_buffer('mask', torch.triu(torch.ones(context_length, context_length)))\n",
        "\n",
        "        self.dropout = nn.Dropout(attn_dropout)\n",
        "\n",
        "    def forward(self, query, key, value, attn_mask = None, padding_mask = None) -> torch.Tensor:\n",
        "\n",
        "        # b, t, d_model = x.shape\n",
        "\n",
        "        q = self.query(query)   # (b, t, d_k)\n",
        "        k = self.key(key)       # (b, t, d_k)\n",
        "        v = self.value(value)   # (b, t, d_v)\n",
        "\n",
        "        # (b, t, t) = (b, t, d) @ (b, d, t)\n",
        "        attn_scores = q @ k.transpose(1, 2)\n",
        "\n",
        "        # casual mask (t, t)\n",
        "        if attn_mask is not None:\n",
        "            # attn_scores.masked_fill_(self.mask.bool()[:t, :t], -torch.inf)\n",
        "            attn_scores.masked_fill_(attn_mask, -torch.inf) # casual attention (set all true positions to -inf)\n",
        "\n",
        "        attn_weights = torch.softmax(attn_scores / k.shape[-1]**0.5, dim=-1)\n",
        "\n",
        "        attn_weights = self.dropout(attn_weights)\n",
        "\n",
        "        context_vec = attn_weights @ v\n",
        "\n",
        "        return context_vec"
      ]
    },
    {
      "cell_type": "markdown",
      "metadata": {
        "id": "PKz8TwILDrTV"
      },
      "source": [
        "$$\n",
        "\\operatorname{MultiHead}(X_Q, X_K, X_V) = \\operatorname{Concat}\\left(\\operatorname{head}_1, \\ldots, \\operatorname{head}_{\\mathrm{h}}\\right) W^O\n",
        "$$\n"
      ]
    },
    {
      "cell_type": "markdown",
      "metadata": {
        "id": "Y9Bqn9e28KRZ"
      },
      "source": [
        "$$\n",
        "\\quad \\quad \\quad \\operatorname{head}_i = \\operatorname{Attention} \\left(X_Q W_i^Q, X_K W_i^K, X_V W_i^V \\right)\n",
        "$$"
      ]
    },
    {
      "cell_type": "markdown",
      "metadata": {
        "id": "wL3PzE2k8KTb"
      },
      "source": [
        "where,\n",
        "- $W_i^Q \\in \\mathbb{R}^{d_{\\text {model }} \\times d_k}$,\n",
        "- $W_i^K \\in \\mathbb{R}^{d_{\\text {model }} \\times d_k}$,\n",
        "- $W_i^V \\in \\mathbb{R}^{d_{\\text {model }} \\times d_v}$,\n",
        "- $W^O \\in \\mathbb{R}^{h d_v \\times d_{\\text {model }}}$.\n",
        "\n",
        "For each of these we use $d_k = d_v = \\frac{d_{model}}{h}$."
      ]
    },
    {
      "cell_type": "code",
      "execution_count": 7,
      "metadata": {
        "id": "cqS9boi56OiA"
      },
      "outputs": [],
      "source": [
        "class MultiHeadAttention(nn.Module):\n",
        "    def __init__(self, d_model: int, h: int, context_length: int, attn_dropout: float = 0.0, qkv_bias: bool = False):\n",
        "        super().__init__()\n",
        "\n",
        "        assert d_model % n_heads == 0, \"d_model is indivisible by n_heads\"\n",
        "\n",
        "        self.d_out = d_model // h # = d_k = d_v\n",
        "\n",
        "        self.heads = nn.ModuleList(\n",
        "            [ Head(d_model, self.d_out, context_length, attn_dropout, qkv_bias) for _ in range(h) ]\n",
        "        )\n",
        "        self.w_o = nn.Linear(n_heads * self.d_out, d_model) # out_proj\n",
        "\n",
        "    def forward(self, query, key, value, attn_mask, padding_mask = None):\n",
        "        out = torch.cat([head(query, key, value, attn_mask, padding_mask) for head in self.heads], dim=-1)\n",
        "        out = self.w_o(out)\n",
        "        return out"
      ]
    },
    {
      "cell_type": "code",
      "execution_count": 8,
      "metadata": {
        "id": "DjaANx9g6OkO"
      },
      "outputs": [],
      "source": [
        "mha = MultiHeadAttention(d_model, n_heads, context_len).to(device)"
      ]
    },
    {
      "cell_type": "code",
      "execution_count": 9,
      "metadata": {
        "colab": {
          "base_uri": "https://localhost:8080/"
        },
        "id": "CHQLjB7y6Oms",
        "outputId": "bd405fc5-83ab-48f6-a318-a4624f03d14b"
      },
      "outputs": [
        {
          "data": {
            "text/plain": [
              "torch.Size([8, 1024, 768])"
            ]
          },
          "execution_count": 9,
          "metadata": {},
          "output_type": "execute_result"
        }
      ],
      "source": [
        "result = mha(x, x, x, attn_mask=None)\n",
        "result.shape # (batch_size, num_tokens, d_model)"
      ]
    },
    {
      "cell_type": "markdown",
      "metadata": {
        "id": "VoN2OEdTEtmL"
      },
      "source": [
        "### MHA with Combined QKV"
      ]
    },
    {
      "cell_type": "code",
      "execution_count": 10,
      "metadata": {
        "id": "IVkb_79S_7du"
      },
      "outputs": [],
      "source": [
        "class MultiHeadAttention(nn.Module):\n",
        "\n",
        "    def __init__(self, d_model: int, h: int, dropout = 0.0, qkv_bias = False):\n",
        "        super().__init__()\n",
        "\n",
        "        assert d_model % h == 0, \"d_model is indivisible by h (number of heads)\"\n",
        "\n",
        "        self.h = h\n",
        "        self.d_model = d_model\n",
        "        self.d_out = d_model // h # d_v, d_k\n",
        "\n",
        "        self.qkv = nn.Linear(d_model, 3 * self.d_model, bias = qkv_bias)\n",
        "\n",
        "        self.proj = nn.Linear(h * self.d_out, d_model)\n",
        "\n",
        "\n",
        "    def forward(self, x: torch.Tensor):\n",
        "\n",
        "        b, t, d_model = x.shape\n",
        "\n",
        "        qkv = self.qkv(x) # (b, t, 3 * d_out)\n",
        "\n",
        "        qkv = qkv.view(b, t, 3, self.h, self.d_out)\n",
        "\n",
        "        qkv = qkv.permute(2, 0, 3, 1, 4) # (3, b, h, t, d_out)\n",
        "\n",
        "        queries, keys, values = qkv.unbind(0) # 3 x (b, h, t, d_out)\n",
        "\n",
        "        # (b, h, t, t) = (b, h, t, d_out) @ (b, h, d_out, t)\n",
        "        attn_scores = queries @ keys.transpose(-2, -1)\n",
        "\n",
        "        attn_weights = torch.softmax(attn_scores / math.sqrt(self.d_out), dim = -1)\n",
        "\n",
        "        # (b, h, t, d_out) = (b, h, t, t) @ (b, h, t, head_dim)\n",
        "        context_vec = attn_weights @ values\n",
        "\n",
        "        # (b, t, h, d_out) <- (b, h, t, d_out)\n",
        "        context_vec = context_vec.transpose(1, 2).contiguous()\n",
        "\n",
        "        context_vec = context_vec.contiguous().view(b, t, d_model)\n",
        "\n",
        "        context_vec = self.proj(context_vec)\n",
        "\n",
        "        return context_vec"
      ]
    },
    {
      "cell_type": "code",
      "execution_count": 11,
      "metadata": {
        "id": "JBU-z5ZlB9Wd"
      },
      "outputs": [],
      "source": [
        "mha = MultiHeadAttention(d_model, n_heads).to(device)"
      ]
    },
    {
      "cell_type": "code",
      "execution_count": 12,
      "metadata": {
        "colab": {
          "base_uri": "https://localhost:8080/"
        },
        "id": "e_lAfeLj_7iw",
        "outputId": "6461a624-fc09-4c97-b2f3-fbaaca9ba7b4"
      },
      "outputs": [
        {
          "data": {
            "text/plain": [
              "torch.Size([8, 1024, 768])"
            ]
          },
          "execution_count": 12,
          "metadata": {},
          "output_type": "execute_result"
        }
      ],
      "source": [
        "mha(x).shape # (batch_size, num_tokens, d_model)"
      ]
    },
    {
      "cell_type": "markdown",
      "metadata": {
        "id": "uSd2sJluE0sp"
      },
      "source": [
        "### FlexAttention\n",
        "\n",
        "FlexAttention: The Flexibility of PyTorch with the Performance of FlashAttention https://pytorch.org/blog/flexattention/"
      ]
    },
    {
      "cell_type": "code",
      "execution_count": 12,
      "metadata": {
        "id": "OLA2yOncE3oi"
      },
      "outputs": [],
      "source": []
    },
    {
      "cell_type": "markdown",
      "metadata": {
        "id": "crfnr6gD6Otb"
      },
      "source": [
        "# Multi-Query Attention (MQA)\n",
        "\n",
        "Shazeer, Noam. “Fast Transformer Decoding: One Write-Head Is All You Need.” arXiv, November 6, 2019. https://doi.org/10.48550/arXiv.1911.02150.\n"
      ]
    },
    {
      "cell_type": "markdown",
      "metadata": {
        "id": "asH7WE8-vouf"
      },
      "source": [
        "$$\n",
        "\\operatorname{Attention}(Q, K, V)=\\operatorname{softmax}\\left(\\frac{Q K^T}{\\sqrt{d_k}}\\right) V\n",
        "$$"
      ]
    },
    {
      "cell_type": "markdown",
      "metadata": {
        "id": "nfkO-QpWvp4R"
      },
      "source": [
        "$$\n",
        "\\operatorname{MultiHead}(X_Q, X_K, X_V) = \\operatorname{Concat}\\left(\\operatorname{head}_1, \\ldots, \\operatorname{head}_{\\mathrm{h}}\\right) W^O\n",
        "$$\n",
        "\n",
        "$$\n",
        "\\quad \\quad \\quad \\operatorname{head}_i = \\operatorname{Attention} \\left(X_Q W_i^Q, X_K W^K, X_V W^V \\right)\n",
        "$$\n",
        "\n",
        "where,\n",
        "- $W_i^Q \\in \\mathbb{R}^{d_{\\text {model }} \\times d_k}$,\n",
        "- $W^K \\in \\mathbb{R}^{d_{\\text {model }} \\times d_k}$,\n",
        "- $W^V \\in \\mathbb{R}^{d_{\\text {model }} \\times d_v}$,\n",
        "- $W^O \\in \\mathbb{R}^{h d_v \\times d_{\\text {model }}}$.\n",
        "\n",
        "For each of these we use $d_k = d_v = \\frac{d_{model}}{h}$."
      ]
    },
    {
      "cell_type": "code",
      "execution_count": 13,
      "metadata": {
        "id": "Zjtag0R_6ZGU"
      },
      "outputs": [],
      "source": [
        "class MultiQueryAttention(nn.Module):\n",
        "\n",
        "    def __init__(self, d_model: int, h: int):\n",
        "        super().__init__()\n",
        "\n",
        "        assert d_model % h == 0, \"d_model is indivisible by h (number of heads)\"\n",
        "\n",
        "        self.d_model = d_model\n",
        "        self.h = h\n",
        "        self.d_k = self.d_v = d_model // h\n",
        "\n",
        "        self.q_proj = nn.Linear(d_model, h * self.d_k)\n",
        "        self.k_proj = nn.Linear(d_model, self.d_k)\n",
        "        self.v_proj = nn.Linear(d_model, self.d_v)\n",
        "\n",
        "        self.out_proj = nn.Linear(h * self.d_v, d_model)\n",
        "\n",
        "    def forward(self, x: torch.Tensor):\n",
        "\n",
        "        b, t, d_model = x.shape\n",
        "\n",
        "        q = self.q_proj(x).view(b, self.h, t, self.d_k)\n",
        "        k = self.k_proj(x).view(b, 1, t, self.d_k)\n",
        "        v = self.v_proj(x).view(b, 1, t, self.d_v)\n",
        "\n",
        "        k = k.repeat_interleave(self.h, dim=1)\n",
        "        v = v.repeat_interleave(self.h, dim=1)\n",
        "\n",
        "        # (b, h, t, t) = (b, h, t, d_k) @ (b, h, d_k, t)\n",
        "        attn_scores = torch.matmul(q, k.transpose(2, 3))\n",
        "\n",
        "        attn_weights = torch.softmax(attn_scores / math.sqrt(self.d_k), dim=-1)\n",
        "\n",
        "        # (b, h, t, d_v) = (b, h, t, t) @ (b, h, t, d_v)\n",
        "        # (b, t, h, d_v) <- (b, h, t, d_v)\n",
        "        context = torch.matmul(attn_weights, v).transpose(1, 2).contiguous()\n",
        "\n",
        "        context = context.view(b, t, self.d_model)\n",
        "\n",
        "        return self.out_proj(context)"
      ]
    },
    {
      "cell_type": "code",
      "execution_count": 14,
      "metadata": {
        "id": "KeBdW1zyGEH3"
      },
      "outputs": [],
      "source": [
        "mqa = MultiQueryAttention(d_model, n_heads).to(device)"
      ]
    },
    {
      "cell_type": "code",
      "execution_count": 15,
      "metadata": {
        "colab": {
          "base_uri": "https://localhost:8080/"
        },
        "id": "kGt9m6-N6Zkc",
        "outputId": "b75a702e-451b-48e6-9c75-6cee6da7fae3"
      },
      "outputs": [
        {
          "data": {
            "text/plain": [
              "torch.Size([8, 1024, 768])"
            ]
          },
          "execution_count": 15,
          "metadata": {},
          "output_type": "execute_result"
        }
      ],
      "source": [
        "mqa(x).shape # (batch_size, num_tokens, d_model)"
      ]
    },
    {
      "cell_type": "markdown",
      "metadata": {
        "id": "sguUj-Ql6aAC"
      },
      "source": [
        "# Grouped-query attention (GQA)\n",
        "\n",
        "Ainslie, Joshua, James Lee-Thorp, Michiel de Jong, Yury Zemlyanskiy, Federico Lebrón, and Sumit Sanghai. “GQA: Training Generalized Multi-Query Transformer Models from Multi-Head Checkpoints.” arXiv, December 23, 2023. https://doi.org/10.48550/arXiv.2305.13245.\n"
      ]
    },
    {
      "cell_type": "markdown",
      "metadata": {
        "id": "tSf1s8Pkx5E-"
      },
      "source": [
        "$$\n",
        "\\operatorname{Attention}(Q, K, V)=\\operatorname{softmax}\\left(\\frac{Q K^T}{\\sqrt{d_k}}\\right) V\n",
        "$$"
      ]
    },
    {
      "cell_type": "markdown",
      "metadata": {
        "id": "Qy0rHwpnx5Hu"
      },
      "source": [
        "$$\n",
        "\\operatorname{MultiHead}(X_Q, X_K, X_V) = \\operatorname{Concat}\\left(\\operatorname{head}_1, \\ldots, \\operatorname{head}_{\\mathrm{h}}\\right) W^O\n",
        "$$"
      ]
    },
    {
      "cell_type": "markdown",
      "metadata": {
        "id": "8PnLe_DAzcBQ"
      },
      "source": [
        "$$\n",
        "\\quad \\quad \\quad \\operatorname{head}_i = \\operatorname{Attention} \\left(X_Q W_i^Q, X_K W^K_{g(i)}, X_V W^V_{g(i)} \\right)\n",
        "$$"
      ]
    },
    {
      "cell_type": "markdown",
      "metadata": {
        "id": "8N992dSLz1xM"
      },
      "source": [
        "Divide $i$ into groups of size $m$, that is:\n",
        "$$\n",
        "g(i) =\\left\\lfloor\\frac{i}{m}\\right\\rfloor\n",
        "$$\n",
        "\n",
        "$$\\therefore$$\n",
        "$$\n",
        "0 = g(0)=g(1)=\\cdots=g(m-1)\n",
        "$$\n",
        "$$\n",
        "1 = g(m)=g(m+1)=\\cdots=g(2m-1)\n",
        "$$\n",
        "$$\n",
        "\\vdots\n",
        "$$"
      ]
    },
    {
      "cell_type": "markdown",
      "metadata": {
        "id": "LvvAZ4RUzZU8"
      },
      "source": [
        "where,\n",
        "- $W_i^Q \\in \\mathbb{R}^{d_{\\text {model }} \\times d_k}$,\n",
        "\n",
        "- $W_{g(i)}^K \\in \\mathbb{R}^{d_{\\text {model }} \\times d_k}$,\n",
        "- $W_{g(i)}^V \\in \\mathbb{R}^{d_{\\text {model }} \\times d_v}$,\n",
        "\n",
        "- $W^O \\in \\mathbb{R}^{h d_v \\times d_{\\text {model }}}$.\n",
        "\n",
        "For each of these we use $d_k = d_v = \\frac{d_{model}}{h}$."
      ]
    },
    {
      "cell_type": "code",
      "execution_count": 16,
      "metadata": {
        "id": "OOnr3eZE6bd5"
      },
      "outputs": [],
      "source": [
        "class GroupedQueryAttention(nn.Module):\n",
        "    def __init__(self, d_model: int, h: int, n_groups: int, qkv_bias:bool=False):\n",
        "        super().__init__()\n",
        "\n",
        "        assert d_model % h == 0, \"d_model is indivisible by n_heads\"\n",
        "\n",
        "        self.d_model = d_model\n",
        "        self.h = h\n",
        "        self.d_k = self.d_v = d_model // h\n",
        "\n",
        "        self.g = n_groups\n",
        "        self.g_size = h // n_groups\n",
        "\n",
        "        self.q_proj = nn.Linear(d_model, self.h * self.d_k, bias = qkv_bias)\n",
        "        self.k_proj = nn.Linear(d_model, self.g * self.d_k, bias = qkv_bias)\n",
        "        self.v_proj = nn.Linear(d_model, self.g * self.d_v, bias = qkv_bias)\n",
        "\n",
        "        self.out_proj = nn.Linear(self.h * self.d_v, d_model)\n",
        "\n",
        "    def forward(self, x: torch.Tensor):\n",
        "\n",
        "        b, t, d  = x.shape\n",
        "\n",
        "        q = self.q_proj(x).view(b, self.h, t, self.d_k)\n",
        "        k = self.k_proj(x).view(b, self.g, t, self.d_k)\n",
        "        v = self.v_proj(x).view(b, self.g, t, self.d_v)\n",
        "\n",
        "        k = k.repeat_interleave(self.g_size, dim=1)\n",
        "        v = v.repeat_interleave(self.g_size, dim=1)\n",
        "\n",
        "        # (b, h, t, t) = (b,  h, t, d_k) x (b, h, d_k, t)\n",
        "        attn_scores = torch.matmul(q, k.transpose(2, 3)) / math.sqrt(self.d_k)\n",
        "\n",
        "        attn_weights = F.softmax(attn_scores, dim=-1)\n",
        "\n",
        "        # (b, t, h, d_v) <- (b, h, t, d_v) = (b, h, t, t) x (b, h, t, d_v)\n",
        "        context = torch.matmul(attn_weights, v).transpose(1, 2).contiguous()\n",
        "\n",
        "        context = context.view(batch_size, t, self.d_model)\n",
        "\n",
        "        return self.out_proj(context)"
      ]
    },
    {
      "cell_type": "code",
      "execution_count": 17,
      "metadata": {
        "id": "I18fgWhZ6b44"
      },
      "outputs": [],
      "source": [
        "gqa = GroupedQueryAttention(d_model, n_heads, 2).to(device)"
      ]
    },
    {
      "cell_type": "code",
      "execution_count": 18,
      "metadata": {
        "colab": {
          "base_uri": "https://localhost:8080/"
        },
        "id": "Tct5MNBb6b7t",
        "outputId": "0fcede3a-1ec2-48db-f4ae-4c19e737335e"
      },
      "outputs": [
        {
          "data": {
            "text/plain": [
              "torch.Size([8, 1024, 768])"
            ]
          },
          "execution_count": 18,
          "metadata": {},
          "output_type": "execute_result"
        }
      ],
      "source": [
        "gqa(x).shape # (batch_size, num_tokens, d_model)"
      ]
    },
    {
      "cell_type": "markdown",
      "metadata": {
        "id": "vbjmkJxI6cO0"
      },
      "source": [
        "# Multi-head Latent Attention (MLA)\n",
        "\n",
        "DeepSeek-AI, Aixin Liu, Bei Feng, Bin Wang, Bingxuan Wang, Bo Liu, Chenggang Zhao, et al. “DeepSeek-V2: A Strong, Economical, and Efficient Mixture-of-Experts Language Model.” arXiv, June 19, 2024. https://doi.org/10.48550/arXiv.2405.04434.\n"
      ]
    },
    {
      "cell_type": "markdown",
      "metadata": {
        "id": "k5BL6mirr6De"
      },
      "source": [
        "# Speed comparison"
      ]
    },
    {
      "cell_type": "code",
      "execution_count": 19,
      "metadata": {
        "id": "r-vX8ABjsZMJ"
      },
      "outputs": [],
      "source": [
        "attention_fns = {\n",
        "    \"mha\": mha,\n",
        "    \"mqa\": mqa,\n",
        "    \"gqa\": gqa\n",
        "}"
      ]
    },
    {
      "cell_type": "code",
      "execution_count": 20,
      "metadata": {
        "id": "A6CmvZbkr7nO"
      },
      "outputs": [],
      "source": [
        "def time_pytorch_function(func, *input, num_repeats=1_000):\n",
        "\n",
        "    start = torch.cuda.Event(enable_timing=True)\n",
        "    end = torch.cuda.Event(enable_timing=True)\n",
        "\n",
        "    for _ in range(5):\n",
        "        func(*input)\n",
        "    torch.cuda.synchronize()\n",
        "\n",
        "    times = []\n",
        "    for _ in range(num_repeats):\n",
        "        start.record()\n",
        "        func(*input)\n",
        "        end.record()\n",
        "        torch.cuda.synchronize()\n",
        "        times.append(start.elapsed_time(end))\n",
        "\n",
        "    return np.mean(times), np.std(times)"
      ]
    },
    {
      "cell_type": "code",
      "execution_count": 29,
      "metadata": {
        "collapsed": true,
        "id": "2uwjPn6lsVkK"
      },
      "outputs": [],
      "source": [
        "stats = [time_pytorch_function(fn, x, num_repeats=10_000) for fn in attention_fns.values()]"
      ]
    },
    {
      "cell_type": "code",
      "execution_count": 30,
      "metadata": {
        "id": "_ixSzqpasWUC"
      },
      "outputs": [],
      "source": [
        "execution_means = [stat[0] for stat in stats]\n",
        "execution_stds = [stat[1] for stat in stats]"
      ]
    },
    {
      "cell_type": "code",
      "execution_count": 31,
      "metadata": {
        "id": "LijMU8udsGug"
      },
      "outputs": [],
      "source": [
        "def plot_execution_times(functions, execution_means, execution_stds):\n",
        "\n",
        "    fig, ax = plt.subplots()\n",
        "    bars = ax.bar(functions.keys(), execution_means, yerr=execution_stds, capsize=5, error_kw={'ecolor': 'grey'})\n",
        "\n",
        "    plt.ylabel(\"Execution time (ms)\")\n",
        "    plt.xticks(rotation=45, ha=\"right\")\n",
        "\n",
        "    max_execution_time = max(execution_means)\n",
        "    upper_ylim = max_execution_time + 0.4 * max_execution_time\n",
        "    plt.ylim(0, upper_ylim)\n",
        "\n",
        "    for bar in bars:\n",
        "        yval = bar.get_height()\n",
        "        plt.text(bar.get_x() + bar.get_width()/2, yval + (0.05 * upper_ylim), round(yval, 2), ha=\"center\", va=\"bottom\")\n",
        "\n",
        "    plt.tight_layout()\n",
        "    plt.show()"
      ]
    },
    {
      "cell_type": "code",
      "execution_count": 32,
      "metadata": {
        "colab": {
          "base_uri": "https://localhost:8080/",
          "height": 487
        },
        "id": "TqdDxYOmsSyy",
        "outputId": "1fe126cc-5600-45f2-bcc9-e787e89a7b9a"
      },
      "outputs": [
        {
          "data": {
            "image/png": "[encoded data removed]",
            "text/plain": [
              "<Figure size 640x480 with 1 Axes>"
            ]
          },
          "metadata": {},
          "output_type": "display_data"
        }
      ],
      "source": [
        "plot_execution_times(attention_fns, execution_means, execution_stds)"
      ]
    },
    {
      "cell_type": "code",
      "execution_count": null,
      "metadata": {
        "id": "RdpYIJfDPMuR"
      },
      "outputs": [],
      "source": []
    }
  ],
  "metadata": {
    "accelerator": "GPU",
    "colab": {
      "gpuType": "A100",
      "provenance": []
    },
    "kernelspec": {
      "display_name": "venv",
      "language": "python",
      "name": "python3"
    },
    "language_info": {
      "name": "python",
      "version": "3.8.10"
    }
  },
  "nbformat": 4,
  "nbformat_minor": 0
}
