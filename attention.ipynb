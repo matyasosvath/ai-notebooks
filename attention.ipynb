{
  "nbformat": 4,
  "nbformat_minor": 0,
  "metadata": {
    "colab": {
      "provenance": [],
      "gpuType": "L4"
    },
    "kernelspec": {
      "name": "python3",
      "display_name": "Python 3"
    },
    "language_info": {
      "name": "python"
    },
    "accelerator": "GPU"
  },
  "cells": [
    {
      "cell_type": "code",
      "execution_count": null,
      "metadata": {
        "id": "hLo1MWPC5mGD"
      },
      "outputs": [],
      "source": [
        "import math\n",
        "import numpy as np\n",
        "import matplotlib.pyplot as plt\n",
        "\n",
        "import torch\n",
        "from torch import nn\n",
        "import torch.nn.functional as F"
      ]
    },
    {
      "cell_type": "code",
      "source": [
        "device = torch.device(\"cuda\" if torch.cuda.is_available() else \"cpu\")"
      ],
      "metadata": {
        "id": "yDD_hlDo5thS"
      },
      "execution_count": null,
      "outputs": []
    },
    {
      "cell_type": "code",
      "source": [
        "torch.manual_seed(42)"
      ],
      "metadata": {
        "colab": {
          "base_uri": "https://localhost:8080/"
        },
        "collapsed": true,
        "id": "nnYQ5k6R5zfB",
        "outputId": "0f7bcb4e-d9a3-4172-9d17-942ff5b99ff9"
      },
      "execution_count": null,
      "outputs": [
        {
          "output_type": "execute_result",
          "data": {
            "text/plain": [
              "<torch._C.Generator at 0x7d9dc279a390>"
            ]
          },
          "metadata": {},
          "execution_count": 3
        }
      ]
    },
    {
      "cell_type": "code",
      "source": [
        "batch_size = 8                      # b, b_sz\n",
        "context_len = 1024                  # seq_len, context_length, num_tokens, t, n_tokens\n",
        "d_model = 768                       # embed_dim, d_in, d_out, d\n",
        "n_heads = 6                         # h\n",
        "n_groups = 2                        # g\n",
        "head_dim = d_model // n_heads       # d_k, d_v"
      ],
      "metadata": {
        "id": "v13QB5gN51Kr"
      },
      "execution_count": null,
      "outputs": []
    },
    {
      "cell_type": "code",
      "source": [
        "x = torch.randn((batch_size, context_len, d_model), device=device)"
      ],
      "metadata": {
        "id": "GhXfI5uO56Oz"
      },
      "execution_count": null,
      "outputs": []
    },
    {
      "cell_type": "markdown",
      "source": [
        "# Multi-Head Attention (MHA)\n",
        "\n",
        "Vaswani, Ashish, Noam Shazeer, Niki Parmar, Jakob Uszkoreit, Llion Jones, Aidan N. Gomez, Lukasz Kaiser, and Illia Polosukhin. “Attention Is All You Need.” arXiv, 2017. https://doi.org/10.48550/arXiv.1706.03762."
      ],
      "metadata": {
        "id": "HTpny5Ah6MOl"
      }
    },
    {
      "cell_type": "markdown",
      "source": [
        "$$\n",
        "\\operatorname{Attention}(Q, K, V)=\\operatorname{softmax}\\left(\\frac{Q K^T}{\\sqrt{d_k}}\\right) V\n",
        "$$"
      ],
      "metadata": {
        "id": "yxWmmWd2Doai"
      }
    },
    {
      "cell_type": "code",
      "source": [
        "class Head(nn.Module):\n",
        "    def __init__(self, d_model: int, d_out: int, context_length: int, attn_dropout: float = 0.0, qkv_bias: bool = False) -> None:\n",
        "        super().__init__()\n",
        "\n",
        "        self.key = nn.Linear(d_model, d_out, bias = qkv_bias)\n",
        "        self.query = nn.Linear(d_model, d_out, bias = qkv_bias)\n",
        "        self.value = nn.Linear(d_model, d_out, bias = qkv_bias)\n",
        "\n",
        "        # casual mask (another solution)\n",
        "        # self.register_buffer('mask', torch.triu(torch.ones(context_length, context_length)))\n",
        "\n",
        "        self.dropout = nn.Dropout(attn_dropout)\n",
        "\n",
        "    def forward(self, query, key, value, attn_mask = None, padding_mask = None) -> torch.Tensor:\n",
        "\n",
        "        # b, t, d_model = x.shape\n",
        "\n",
        "        q = self.query(query)   # (b, t, d_k)\n",
        "        k = self.key(key)       # (b, t, d_k)\n",
        "        v = self.value(value)   # (b, t, d_v)\n",
        "\n",
        "        # (b, t, t) = (b, t, d) @ (b, d, t)\n",
        "        attn_scores = q @ k.transpose(1, 2)\n",
        "\n",
        "        # casual mask (t, t)\n",
        "        if attn_mask is not None:\n",
        "            # attn_scores.masked_fill_(self.mask.bool()[:t, :t], -torch.inf)\n",
        "            attn_scores.masked_fill_(attn_mask, -torch.inf) # casual attention (set all true positions to -inf)\n",
        "\n",
        "        attn_weights = torch.softmax(attn_scores / k.shape[-1]**0.5, dim=-1)\n",
        "\n",
        "        attn_weights = self.dropout(attn_weights)\n",
        "\n",
        "        context_vec = attn_weights @ v\n",
        "\n",
        "        return context_vec"
      ],
      "metadata": {
        "id": "gvtEoU_J6OEZ"
      },
      "execution_count": null,
      "outputs": []
    },
    {
      "cell_type": "markdown",
      "source": [
        "$$\n",
        "\\operatorname{MultiHead}(X_Q, X_K, X_V) = \\operatorname{Concat}\\left(\\operatorname{head}_1, \\ldots, \\operatorname{head}_{\\mathrm{h}}\\right) W^O\n",
        "$$\n"
      ],
      "metadata": {
        "id": "PKz8TwILDrTV"
      }
    },
    {
      "cell_type": "markdown",
      "source": [
        "$$\n",
        "\\quad \\quad \\quad \\operatorname{head}_i = \\operatorname{Attention} \\left(X_Q W_i^Q, X_K W_i^K, X_V W_i^V \\right)\n",
        "$$"
      ],
      "metadata": {
        "id": "Y9Bqn9e28KRZ"
      }
    },
    {
      "cell_type": "markdown",
      "source": [
        "where,\n",
        "- $W_i^Q \\in \\mathbb{R}^{d_{\\text {model }} \\times d_k}$,\n",
        "- $W_i^K \\in \\mathbb{R}^{d_{\\text {model }} \\times d_k}$,\n",
        "- $W_i^V \\in \\mathbb{R}^{d_{\\text {model }} \\times d_v}$,\n",
        "- $W^O \\in \\mathbb{R}^{h d_v \\times d_{\\text {model }}}$.\n",
        "\n",
        "For each of these we use $d_k = d_v = \\frac{d_{model}}{h}$."
      ],
      "metadata": {
        "id": "wL3PzE2k8KTb"
      }
    },
    {
      "cell_type": "code",
      "source": [
        "class MultiHeadAttention(nn.Module):\n",
        "    def __init__(self, d_model: int, h: int, context_length: int, attn_dropout: float = 0.0, qkv_bias: bool = False):\n",
        "        super().__init__()\n",
        "\n",
        "        assert d_model % n_heads == 0, \"d_model is indivisible by n_heads\"\n",
        "\n",
        "        self.d_out = d_model // h # = d_k = d_v\n",
        "\n",
        "        self.heads = nn.ModuleList(\n",
        "            [ Head(d_model, self.d_out, context_length, attn_dropout, qkv_bias) for _ in range(h) ]\n",
        "        )\n",
        "        self.w_o = nn.Linear(n_heads * self.d_out, d_model) # out_proj\n",
        "\n",
        "    def forward(self, query, key, value, attn_mask, padding_mask = None):\n",
        "        out = torch.cat([head(query, key, value, attn_mask, padding_mask) for head in self.heads], dim=-1)\n",
        "        out = self.w_o(out)\n",
        "        return out"
      ],
      "metadata": {
        "id": "cqS9boi56OiA"
      },
      "execution_count": null,
      "outputs": []
    },
    {
      "cell_type": "code",
      "source": [
        "mha = MultiHeadAttention(d_model, n_heads, context_len).to(device)"
      ],
      "metadata": {
        "id": "DjaANx9g6OkO"
      },
      "execution_count": null,
      "outputs": []
    },
    {
      "cell_type": "code",
      "source": [
        "result = mha(x, x, x, attn_mask=None)\n",
        "result.shape # (batch_size, num_tokens, d_model)"
      ],
      "metadata": {
        "colab": {
          "base_uri": "https://localhost:8080/"
        },
        "id": "CHQLjB7y6Oms",
        "outputId": "407f4ca1-b193-4fdd-c3a8-a7c7254b41e3"
      },
      "execution_count": null,
      "outputs": [
        {
          "output_type": "execute_result",
          "data": {
            "text/plain": [
              "torch.Size([8, 1024, 768])"
            ]
          },
          "metadata": {},
          "execution_count": 9
        }
      ]
    },
    {
      "cell_type": "markdown",
      "source": [
        "### MHA with Combined QKV"
      ],
      "metadata": {
        "id": "VoN2OEdTEtmL"
      }
    },
    {
      "cell_type": "code",
      "source": [
        "class MultiHeadAttention(nn.Module):\n",
        "\n",
        "    def __init__(self, d_model: int, h: int, dropout = 0.0, qkv_bias = False):\n",
        "        super().__init__()\n",
        "\n",
        "        assert d_model % h == 0, \"d_model is indivisible by h (number of heads)\"\n",
        "\n",
        "        self.h = h\n",
        "        self.d_model = d_model\n",
        "        self.d_out = d_model // h # d_v, d_k\n",
        "\n",
        "        self.qkv = nn.Linear(d_model, 3 * self.d_model, bias = qkv_bias)\n",
        "\n",
        "        self.proj = nn.Linear(h * self.d_out, d_model)\n",
        "\n",
        "\n",
        "    def forward(self, x: torch.Tensor):\n",
        "\n",
        "        b, t, d_model = x.shape\n",
        "\n",
        "        qkv = self.qkv(x) # (b, t, 3 * d_out)\n",
        "\n",
        "        qkv = qkv.view(b, t, 3, self.h, self.d_out)\n",
        "\n",
        "        qkv = qkv.permute(2, 0, 3, 1, 4) # (3, b, h, t, d_out)\n",
        "\n",
        "        queries, keys, values = qkv.unbind(0) # 3 x (b, h, t, d_out)\n",
        "\n",
        "        # (b, h, t, t) = (b, h, t, d_out) @ (b, h, d_out, t)\n",
        "        attn_scores = queries @ keys.transpose(-2, -1)\n",
        "\n",
        "        attn_weights = torch.softmax(attn_scores / math.sqrt(self.d_out), dim = -1)\n",
        "\n",
        "        # (b, h, t, d_out) = (b, h, t, t) @ (b, h, t, head_dim)\n",
        "        context_vec = attn_weights @ values\n",
        "\n",
        "        # (b, t, h, d_out) <- (b, h, t, d_out)\n",
        "        context_vec = context_vec.transpose(1, 2).contiguous()\n",
        "\n",
        "        context_vec = context_vec.contiguous().view(b, t, d_model)\n",
        "\n",
        "        context_vec = self.proj(context_vec)\n",
        "\n",
        "        return context_vec"
      ],
      "metadata": {
        "id": "IVkb_79S_7du"
      },
      "execution_count": null,
      "outputs": []
    },
    {
      "cell_type": "code",
      "source": [
        "mha = MultiHeadAttention(d_model, n_heads).to(device)"
      ],
      "metadata": {
        "id": "JBU-z5ZlB9Wd"
      },
      "execution_count": null,
      "outputs": []
    },
    {
      "cell_type": "code",
      "source": [
        "mha(x).shape # (batch_size, num_tokens, d_model)"
      ],
      "metadata": {
        "colab": {
          "base_uri": "https://localhost:8080/"
        },
        "id": "e_lAfeLj_7iw",
        "outputId": "60823ffa-cb34-4307-98a3-a7e0a0a8ea46"
      },
      "execution_count": null,
      "outputs": [
        {
          "output_type": "execute_result",
          "data": {
            "text/plain": [
              "torch.Size([8, 1024, 768])"
            ]
          },
          "metadata": {},
          "execution_count": 12
        }
      ]
    },
    {
      "cell_type": "markdown",
      "source": [
        "### FlexAttention\n",
        "\n",
        "FlexAttention: The Flexibility of PyTorch with the Performance of FlashAttention https://pytorch.org/blog/flexattention/"
      ],
      "metadata": {
        "id": "uSd2sJluE0sp"
      }
    },
    {
      "cell_type": "code",
      "source": [],
      "metadata": {
        "id": "OLA2yOncE3oi"
      },
      "execution_count": null,
      "outputs": []
    },
    {
      "cell_type": "markdown",
      "source": [
        "# Multi-Query Attention (MQA)\n",
        "\n",
        "Shazeer, Noam. “Fast Transformer Decoding: One Write-Head Is All You Need.” arXiv, November 6, 2019. https://doi.org/10.48550/arXiv.1911.02150.\n"
      ],
      "metadata": {
        "id": "crfnr6gD6Otb"
      }
    },
    {
      "cell_type": "markdown",
      "source": [
        "$$\n",
        "\\operatorname{Attention}(Q, K, V)=\\operatorname{softmax}\\left(\\frac{Q K^T}{\\sqrt{d_k}}\\right) V\n",
        "$$"
      ],
      "metadata": {
        "id": "asH7WE8-vouf"
      }
    },
    {
      "cell_type": "markdown",
      "source": [
        "$$\n",
        "\\operatorname{MultiHead}(X_Q, X_K, X_V) = \\operatorname{Concat}\\left(\\operatorname{head}_1, \\ldots, \\operatorname{head}_{\\mathrm{h}}\\right) W^O\n",
        "$$\n",
        "\n",
        "$$\n",
        "\\quad \\quad \\quad \\operatorname{head}_i = \\operatorname{Attention} \\left(X_Q W_i^Q, X_K W^K, X_V W^V \\right)\n",
        "$$\n",
        "\n",
        "where,\n",
        "- $W_i^Q \\in \\mathbb{R}^{d_{\\text {model }} \\times d_k}$,\n",
        "- $W^K \\in \\mathbb{R}^{d_{\\text {model }} \\times d_k}$,\n",
        "- $W^V \\in \\mathbb{R}^{d_{\\text {model }} \\times d_v}$,\n",
        "- $W^O \\in \\mathbb{R}^{h d_v \\times d_{\\text {model }}}$.\n",
        "\n",
        "For each of these we use $d_k = d_v = \\frac{d_{model}}{h}$."
      ],
      "metadata": {
        "id": "nfkO-QpWvp4R"
      }
    },
    {
      "cell_type": "code",
      "source": [
        "class MultiQueryAttention(nn.Module):\n",
        "\n",
        "    def __init__(self, d_model: int, h: int):\n",
        "        super().__init__()\n",
        "\n",
        "        assert d_model % h == 0, \"d_model is indivisible by h (number of heads)\"\n",
        "\n",
        "        self.d_model = d_model\n",
        "        self.h = h\n",
        "        self.d_k = self.d_v = d_model // h\n",
        "\n",
        "        self.q_proj = nn.Linear(d_model, h * self.d_k)\n",
        "        self.k_proj = nn.Linear(d_model, self.d_k)\n",
        "        self.v_proj = nn.Linear(d_model, self.d_v)\n",
        "\n",
        "        self.out_proj = nn.Linear(h * self.d_v, d_model)\n",
        "\n",
        "    def forward(self, x: torch.Tensor):\n",
        "\n",
        "        b, t, d_model = x.shape\n",
        "\n",
        "        q = self.q_proj(x).view(b, self.h, t, self.d_k)\n",
        "        k = self.k_proj(x).view(b, 1, t, self.d_k)\n",
        "        v = self.v_proj(x).view(b, 1, t, self.d_v)\n",
        "\n",
        "        k = k.repeat_interleave(self.h, dim=1)\n",
        "        v = v.repeat_interleave(self.h, dim=1)\n",
        "\n",
        "        # (b, h, t, t) = (b, h, t, d_k) @ (b, h, d_k, t)\n",
        "        attn_scores = torch.matmul(q, k.transpose(2, 3))\n",
        "\n",
        "        attn_weights = torch.softmax(attn_scores / math.sqrt(self.d_k), dim=-1)\n",
        "\n",
        "        # (b, h, t, d_v) = (b, h, t, t) @ (b, h, t, d_v)\n",
        "        # (b, t, h, d_v) <- (b, h, t, d_v)\n",
        "        context = torch.matmul(attn_weights, v).transpose(1, 2).contiguous()\n",
        "\n",
        "        context = context.view(b, t, self.d_model)\n",
        "\n",
        "        return self.out_proj(context)"
      ],
      "metadata": {
        "id": "Zjtag0R_6ZGU"
      },
      "execution_count": null,
      "outputs": []
    },
    {
      "cell_type": "code",
      "source": [
        "mqa = MultiQueryAttention(d_model, n_heads).to(device)"
      ],
      "metadata": {
        "id": "KeBdW1zyGEH3"
      },
      "execution_count": null,
      "outputs": []
    },
    {
      "cell_type": "code",
      "source": [
        "mqa(x).shape # (batch_size, num_tokens, d_model)"
      ],
      "metadata": {
        "colab": {
          "base_uri": "https://localhost:8080/"
        },
        "id": "kGt9m6-N6Zkc",
        "outputId": "a96f1f2a-9b60-43ab-df2f-e5abdf300387"
      },
      "execution_count": null,
      "outputs": [
        {
          "output_type": "execute_result",
          "data": {
            "text/plain": [
              "torch.Size([8, 1024, 768])"
            ]
          },
          "metadata": {},
          "execution_count": 15
        }
      ]
    },
    {
      "cell_type": "markdown",
      "source": [
        "# Grouped-query attention (GQA)\n",
        "\n",
        "Ainslie, Joshua, James Lee-Thorp, Michiel de Jong, Yury Zemlyanskiy, Federico Lebrón, and Sumit Sanghai. “GQA: Training Generalized Multi-Query Transformer Models from Multi-Head Checkpoints.” arXiv, December 23, 2023. https://doi.org/10.48550/arXiv.2305.13245.\n"
      ],
      "metadata": {
        "id": "sguUj-Ql6aAC"
      }
    },
    {
      "cell_type": "markdown",
      "source": [
        "$$\n",
        "\\operatorname{Attention}(Q, K, V)=\\operatorname{softmax}\\left(\\frac{Q K^T}{\\sqrt{d_k}}\\right) V\n",
        "$$"
      ],
      "metadata": {
        "id": "tSf1s8Pkx5E-"
      }
    },
    {
      "cell_type": "markdown",
      "source": [
        "$$\n",
        "\\operatorname{MultiHead}(X_Q, X_K, X_V) = \\operatorname{Concat}\\left(\\operatorname{head}_1, \\ldots, \\operatorname{head}_{\\mathrm{h}}\\right) W^O\n",
        "$$"
      ],
      "metadata": {
        "id": "Qy0rHwpnx5Hu"
      }
    },
    {
      "cell_type": "markdown",
      "source": [
        "$$\n",
        "\\quad \\quad \\quad \\operatorname{head}_i = \\operatorname{Attention} \\left(X_Q W_i^Q, X_K W^K_{g(i)}, X_V W^V_{g(i)} \\right)\n",
        "$$"
      ],
      "metadata": {
        "id": "8PnLe_DAzcBQ"
      }
    },
    {
      "cell_type": "markdown",
      "source": [
        "Divide $i$ into groups of size $m$, that is:\n",
        "$$\n",
        "g(i) =\\left\\lfloor\\frac{i}{m}\\right\\rfloor\n",
        "$$\n",
        "\n",
        "$$\\therefore$$\n",
        "$$\n",
        "0 = g(0)=g(1)=\\cdots=g(m-1)\n",
        "$$\n",
        "$$\n",
        "1 = g(m)=g(m+1)=\\cdots=g(2m-1)\n",
        "$$\n",
        "$$\n",
        "\\vdots\n",
        "$$"
      ],
      "metadata": {
        "id": "8N992dSLz1xM"
      }
    },
    {
      "cell_type": "markdown",
      "source": [
        "where,\n",
        "- $W_i^Q \\in \\mathbb{R}^{d_{\\text {model }} \\times d_k}$,\n",
        "\n",
        "- $W_{g(i)}^K \\in \\mathbb{R}^{d_{\\text {model }} \\times d_k}$,\n",
        "- $W_{g(i)}^V \\in \\mathbb{R}^{d_{\\text {model }} \\times d_v}$,\n",
        "\n",
        "- $W^O \\in \\mathbb{R}^{h d_v \\times d_{\\text {model }}}$.\n",
        "\n",
        "For each of these we use $d_k = d_v = \\frac{d_{model}}{h}$."
      ],
      "metadata": {
        "id": "LvvAZ4RUzZU8"
      }
    },
    {
      "cell_type": "code",
      "source": [
        "class GroupedQueryAttention(nn.Module):\n",
        "    def __init__(self, d_model: int, h: int, n_groups: int, qkv_bias:bool=False):\n",
        "        super().__init__()\n",
        "\n",
        "        assert d_model % h == 0, \"d_model is indivisible by n_heads\"\n",
        "\n",
        "        self.d_model = d_model\n",
        "        self.h = h\n",
        "        self.d_k = self.d_v = d_model // h\n",
        "\n",
        "        self.g = n_groups\n",
        "        self.g_size = h // n_groups\n",
        "\n",
        "        self.q_proj = nn.Linear(d_model, self.h * self.d_k, bias = qkv_bias)\n",
        "        self.k_proj = nn.Linear(d_model, self.g * self.d_k, bias = qkv_bias)\n",
        "        self.v_proj = nn.Linear(d_model, self.g * self.d_v, bias = qkv_bias)\n",
        "\n",
        "        self.out_proj = nn.Linear(self.h * self.d_v, d_model)\n",
        "\n",
        "    def forward(self, x: torch.Tensor):\n",
        "\n",
        "        b, t, d  = x.shape\n",
        "\n",
        "        q = self.q_proj(x).view(b, self.h, t, self.d_k)\n",
        "        k = self.k_proj(x).view(b, self.g, t, self.d_k)\n",
        "        v = self.v_proj(x).view(b, self.g, t, self.d_v)\n",
        "\n",
        "        k = k.repeat_interleave(self.g_size, dim=1)\n",
        "        v = v.repeat_interleave(self.g_size, dim=1)\n",
        "\n",
        "        # (b, h, t, t) = (b,  h, t, d_k) x (b, h, d_k, t)\n",
        "        attn_scores = torch.matmul(q, k.transpose(2, 3)) / math.sqrt(self.d_k)\n",
        "\n",
        "        attn_weights = F.softmax(attn_scores, dim=-1)\n",
        "\n",
        "        # (b, t, h, d_v) <- (b, h, t, d_v) = (b, h, t, t) x (b, h, t, d_v)\n",
        "        context = torch.matmul(attn_weights, v).transpose(1, 2).contiguous()\n",
        "\n",
        "        context = context.view(batch_size, t, self.d_model)\n",
        "\n",
        "        return self.out_proj(context)"
      ],
      "metadata": {
        "id": "OOnr3eZE6bd5"
      },
      "execution_count": null,
      "outputs": []
    },
    {
      "cell_type": "code",
      "source": [
        "gqa = GroupedQueryAttention(d_model, n_heads, 2).to(device)"
      ],
      "metadata": {
        "id": "I18fgWhZ6b44"
      },
      "execution_count": null,
      "outputs": []
    },
    {
      "cell_type": "code",
      "source": [
        "gqa(x).shape # (batch_size, num_tokens, d_model)"
      ],
      "metadata": {
        "colab": {
          "base_uri": "https://localhost:8080/"
        },
        "id": "Tct5MNBb6b7t",
        "outputId": "46e36517-d701-41e0-a2d9-c77e60022970"
      },
      "execution_count": null,
      "outputs": [
        {
          "output_type": "execute_result",
          "data": {
            "text/plain": [
              "torch.Size([8, 1024, 768])"
            ]
          },
          "metadata": {},
          "execution_count": 18
        }
      ]
    },
    {
      "cell_type": "markdown",
      "source": [
        "# Multi-head Latent Attention (MLA)\n",
        "\n",
        "DeepSeek-AI, Aixin Liu, Bei Feng, Bin Wang, Bingxuan Wang, Bo Liu, Chenggang Zhao, et al. “DeepSeek-V2: A Strong, Economical, and Efficient Mixture-of-Experts Language Model.” arXiv, June 19, 2024. https://doi.org/10.48550/arXiv.2405.04434.\n"
      ],
      "metadata": {
        "id": "vbjmkJxI6cO0"
      }
    },
    {
      "cell_type": "markdown",
      "source": [
        "Let $n_h$ the number of attention heads and $i \\in\\left\\{1,2, \\ldots, n_h\\right\\}$, $d$ be the embedding dimension, $d_h$ be the dimension per head, and $\\mathbf{h}_t \\in \\mathbb{R}^d$ be the attention input of the $t$-th token at an attention layer."
      ],
      "metadata": {
        "id": "XMxVBdrxoXQR"
      }
    },
    {
      "cell_type": "markdown",
      "source": [
        "$$\n",
        "\\begin{aligned}\n",
        "& {\\left[\\mathbf{q}_{t, 1} ; \\mathbf{q}_{t, 2} ; \\ldots ; \\mathbf{q}_{t, n_h}\\right]=\\mathbf{q}_t,} \\\\\n",
        "& {\\left[\\mathbf{k}_{t, 1} ; \\mathbf{k}_{t, 2} ; \\ldots ; \\mathbf{k}_{t, n_h}\\right]=\\mathbf{k}_t,} \\\\\n",
        "& {\\left[\\mathbf{v}_{t, 1} ; \\mathbf{v}_{t, 2} ; \\ldots ; \\mathbf{v}_{t, n_h}\\right]=\\mathbf{v}_t,}\n",
        "\\end{aligned}\n",
        "$$"
      ],
      "metadata": {
        "id": "eRrMRRUumdno"
      }
    },
    {
      "cell_type": "markdown",
      "source": [
        "$$\n",
        "\\mathbf{o}_{t, i}=\\sum_{j=1}^t \\operatorname{Softmax}_j\\left(\\frac{\\mathbf{q}_{t, i}^T \\mathbf{k}_{j, i}}{\\sqrt{d_h}}\\right) \\mathbf{v}_{j, i}\n",
        "$$"
      ],
      "metadata": {
        "id": "-mbxZGOXmdp-"
      }
    },
    {
      "cell_type": "markdown",
      "source": [
        "$$\n",
        "\\mathbf{u}_t=W^O\\left[\\mathbf{o}_{t, 1} ; \\mathbf{o}_{t, 2} ; \\ldots ; \\mathbf{o}_{t, n_h}\\right],\n",
        "$$"
      ],
      "metadata": {
        "id": "WmyWpnLzmdr_"
      }
    },
    {
      "cell_type": "markdown",
      "source": [
        "where\n",
        "- $\\mathbf{q}_{t, i} \\in \\mathbb{R}^{d_h}$\n",
        "- $\\mathbf{k}_{t, i} \\in \\mathbb{R}^{d_h}$\n",
        "- $\\mathbf{v}_{t, i} \\in \\mathbb{R}^{d_h}$\n",
        "- $W^O \\in \\mathbb{R}^{d \\times d_h n_h}$"
      ],
      "metadata": {
        "id": "ZC_N95t5m_zh"
      }
    },
    {
      "cell_type": "markdown",
      "source": [
        "The idea of MLA is the **low-rank joint compression** for keys and values to _reduce KV cache_ and for queries. That is, creating down-projection and up-projection matrices and sharing the down-projection matrix for key and values."
      ],
      "metadata": {
        "id": "oySuXOsqo6w0"
      }
    },
    {
      "cell_type": "markdown",
      "source": [
        "$$\n",
        "\\begin{aligned}\n",
        "\\mathbf{c}_t^{K V} & =W^{D K V} \\mathbf{h}_t, \\\\\n",
        "\\mathbf{k}_t^C & =W^{U K} \\mathbf{c}_t^{K V}, \\\\\n",
        "\\mathbf{v}_t^C & =W^{U V} \\mathbf{c}_t^{K V},\n",
        "\\end{aligned}\n",
        "$$"
      ],
      "metadata": {
        "id": "8VYCa1TNo1hb"
      }
    },
    {
      "cell_type": "markdown",
      "source": [
        "where,\n",
        "- $\\mathbf{c}_t^{K V} \\in \\mathbb{R}^{d_c}$ and $d_c\\left(\\ll d_h n_h\\right)$\n",
        "- $W^{D K V} \\in \\mathbb{R}^{d_c \\times d}$\n",
        "- $W^{U K}, W^{U V} \\in \\mathbb{R}^{d_h n_h \\times d_c}$."
      ],
      "metadata": {
        "id": "wmikkXQ_p0Jm"
      }
    },
    {
      "cell_type": "markdown",
      "source": [
        "$$\n",
        "\\mathbf{c}_t^Q=W^{D Q} \\mathbf{h}_t\n",
        "$$\n",
        "$$\n",
        "\\mathbf{q}_t^C=W^{U Q} \\mathbf{c}_t^Q\n",
        "$$"
      ],
      "metadata": {
        "id": "DgYuYdEApo1K"
      }
    },
    {
      "cell_type": "markdown",
      "source": [
        "where\n",
        "- $\\mathbf{c}_t^Q \\in \\mathbb{R}^{d_c^{\\prime}}$ and $d_c^{\\prime}\\left(\\ll d_h n_h\\right)$,\n",
        "- $W^{D Q} \\in \\mathbb{R}^{d_c^{\\prime} \\times d}$,\n",
        "- $W^{U Q} \\in \\mathbb{R}^{d_h n_h \\times d_c^{\\prime}}$"
      ],
      "metadata": {
        "id": "lyNNVoIvqMQM"
      }
    },
    {
      "cell_type": "markdown",
      "source": [
        "## Training"
      ],
      "metadata": {
        "id": "1gAqnAIiTE3k"
      }
    },
    {
      "cell_type": "code",
      "source": [
        "class MultiHeadLatentAttention(nn.Module):\n",
        "    def __init__(self, d_model: int, n_h: int, d_cq: int = 12, d_c: int = 4):\n",
        "        super().__init__()\n",
        "\n",
        "        self.d_model = d_model\n",
        "        self.n_h = n_h          # n_heads\n",
        "        self.d_c = d_c          # d_c (<< d_h * n_h)\n",
        "        self.d_cq = d_cq        # d_c' (<< d_h * n_h)\n",
        "\n",
        "        self.d_h = d_model // n_heads\n",
        "\n",
        "        # down-projection matrices\n",
        "        self.w_dq = nn.Linear(d_model, d_cq)\n",
        "        self.w_dkv = nn.Linear(d_model, d_c)\n",
        "\n",
        "        # up-projection matrices\n",
        "        self.w_uq = nn.Linear(d_cq, n_h * self.d_h)\n",
        "        self.w_uk = nn.Linear(d_c, n_h * self.d_h)\n",
        "        self.w_uv = nn.Linear(d_c, n_h * self.d_h)\n",
        "\n",
        "        self.w_o = nn.Linear(n_heads * self.d_h, d_model) # out proj\n",
        "\n",
        "    def forward(self, x: torch.Tensor):\n",
        "\n",
        "        b, t, d_model = x.shape\n",
        "\n",
        "        # compression\n",
        "        c_q = self.w_dq(x)     # (b, t, d_c')\n",
        "        c_kv = self.w_dkv(x)   # (b, t, d_c)\n",
        "\n",
        "        # decompression\n",
        "        q_c = self.w_uq(c_q).view(b, self.n_h, t, self.d_h)\n",
        "        k_c = self.w_uk(c_kv).view(b, self.n_h, t, self.d_h)\n",
        "        v_c = self.w_uv(c_kv).view(b, self.n_h, t, self.d_h)\n",
        "\n",
        "        # (b, h, t, t) = (b, h, t, d_h) x (b, h, d_h, t)\n",
        "        attn_scores = torch.matmul(q_c, k_c.transpose(2, 3)) / math.sqrt(self.d_h)\n",
        "\n",
        "        attn_weight = torch.softmax(attn_scores, dim=-1)\n",
        "\n",
        "        # (b, t, h, d_h) <- (b, h, t, d_h) = (b, h, t, t) x (b, h, t, d_h)\n",
        "        context = torch.matmul(attn_weight, v_c).transpose(1,2).contiguous()\n",
        "\n",
        "        context = context.view(b, t, self.d_model)\n",
        "\n",
        "        return self.w_o(context)"
      ],
      "metadata": {
        "id": "GUcchmSTargI"
      },
      "execution_count": null,
      "outputs": []
    },
    {
      "cell_type": "code",
      "source": [
        "mla = MultiHeadLatentAttention(d_model, n_heads, 2).to(device)"
      ],
      "metadata": {
        "id": "Q9mmaI4JbkN-"
      },
      "execution_count": null,
      "outputs": []
    },
    {
      "cell_type": "code",
      "source": [
        "mla(x).shape # (batch_size, num_tokens, d_model)"
      ],
      "metadata": {
        "colab": {
          "base_uri": "https://localhost:8080/"
        },
        "id": "8ow6gf8tbrJy",
        "outputId": "6a36a6b9-ee94-4ab3-a498-ee17ac6c717d"
      },
      "execution_count": null,
      "outputs": [
        {
          "output_type": "execute_result",
          "data": {
            "text/plain": [
              "torch.Size([8, 1024, 768])"
            ]
          },
          "metadata": {},
          "execution_count": 21
        }
      ]
    },
    {
      "cell_type": "markdown",
      "source": [
        "# Speed comparison"
      ],
      "metadata": {
        "id": "k5BL6mirr6De"
      }
    },
    {
      "cell_type": "code",
      "source": [
        "attention_fns = {\n",
        "    \"mha\": mha,\n",
        "    \"mqa\": mqa,\n",
        "    \"gqa\": gqa,\n",
        "    \"mla\": mla\n",
        "}"
      ],
      "metadata": {
        "id": "r-vX8ABjsZMJ"
      },
      "execution_count": null,
      "outputs": []
    },
    {
      "cell_type": "code",
      "source": [
        "def time_pytorch_function(func, *input, num_repeats=1_000):\n",
        "\n",
        "    start = torch.cuda.Event(enable_timing=True)\n",
        "    end = torch.cuda.Event(enable_timing=True)\n",
        "\n",
        "    for _ in range(5):\n",
        "        func(*input)\n",
        "    torch.cuda.synchronize()\n",
        "\n",
        "    times = []\n",
        "    for _ in range(num_repeats):\n",
        "        start.record()\n",
        "        func(*input)\n",
        "        end.record()\n",
        "        torch.cuda.synchronize()\n",
        "        times.append(start.elapsed_time(end))\n",
        "\n",
        "    return np.mean(times), np.std(times)"
      ],
      "metadata": {
        "id": "A6CmvZbkr7nO"
      },
      "execution_count": null,
      "outputs": []
    },
    {
      "cell_type": "code",
      "source": [
        "stats = [time_pytorch_function(fn, x, num_repeats=100) for fn in attention_fns.values()]"
      ],
      "metadata": {
        "collapsed": true,
        "id": "2uwjPn6lsVkK"
      },
      "execution_count": null,
      "outputs": []
    },
    {
      "cell_type": "code",
      "source": [
        "execution_means = [stat[0] for stat in stats]\n",
        "execution_stds = [stat[1] for stat in stats]"
      ],
      "metadata": {
        "id": "_ixSzqpasWUC"
      },
      "execution_count": null,
      "outputs": []
    },
    {
      "cell_type": "code",
      "source": [
        "def plot_execution_times(functions, execution_means, execution_stds):\n",
        "\n",
        "    fig, ax = plt.subplots()\n",
        "    bars = ax.bar(functions.keys(), execution_means, yerr=execution_stds, capsize=5, error_kw={'ecolor': 'grey'})\n",
        "\n",
        "    plt.ylabel(\"Execution time (ms)\")\n",
        "    plt.xticks(rotation=45, ha=\"right\")\n",
        "\n",
        "    max_execution_time = max(execution_means)\n",
        "    upper_ylim = max_execution_time + 0.4 * max_execution_time\n",
        "    plt.ylim(0, upper_ylim)\n",
        "\n",
        "    for bar in bars:\n",
        "        yval = bar.get_height()\n",
        "        plt.text(bar.get_x() + bar.get_width()/2, yval + (0.05 * upper_ylim), round(yval, 2), ha=\"center\", va=\"bottom\")\n",
        "\n",
        "    plt.tight_layout()\n",
        "    plt.show()"
      ],
      "metadata": {
        "id": "LijMU8udsGug"
      },
      "execution_count": null,
      "outputs": []
    },
    {
      "cell_type": "code",
      "source": [
        "plot_execution_times(attention_fns, execution_means, execution_stds)"
      ],
      "metadata": {
        "colab": {
          "base_uri": "https://localhost:8080/",
          "height": 487
        },
        "id": "TqdDxYOmsSyy",
        "outputId": "3d2c52ca-141f-431c-a454-cb9b3a0336b3"
      },
      "execution_count": null,
      "outputs": [
        {
          "output_type": "display_data",
          "data": {
            "text/plain": [
              "<Figure size 640x480 with 1 Axes>"
            ],
            "image/png": "[encoded data removed]"
          },
          "metadata": {}
        }
      ]
    }
  ]
}