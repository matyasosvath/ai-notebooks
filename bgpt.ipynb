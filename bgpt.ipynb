{
  "cells": [
    {
      "cell_type": "markdown",
      "metadata": {
        "id": "uIZjR0t1n48K"
      },
      "source": [
        "# Beyond Language Models: Byte Models are Digital World Simulators\n",
        "\n",
        "Wu, Shangda, Xu Tan, Zili Wang, Rui Wang, Xiaobing Li, and Maosong Sun. “Beyond Language Models: Byte Models Are Digital World Simulators.” arXiv:2402.19155. Preprint, arXiv, February 29, 2024. https://doi.org/10.48550/arXiv.2402.19155.\n"
      ]
    },
    {
      "cell_type": "code",
      "execution_count": null,
      "metadata": {
        "id": "Jxk-8QIu-TMr"
      },
      "outputs": [],
      "source": [
        "# !pip install fsspec==2023.9.2\n",
        "# !pip install samplings"
      ]
    },
    {
      "cell_type": "code",
      "execution_count": 3,
      "metadata": {
        "id": "FnVU8DSbnzvb"
      },
      "outputs": [],
      "source": [
        "import os\n",
        "import math\n",
        "import random\n",
        "import pathlib\n",
        "from dataclasses import dataclass\n",
        "\n",
        "from tqdm import tqdm\n",
        "import matplotlib.pyplot as plt\n",
        "from transformers import get_scheduler\n",
        "from datasets import load_dataset\n",
        "\n",
        "import torch\n",
        "from torch import nn\n",
        "from torch.nn import functional as F\n",
        "from torch.utils.data import Dataset, DataLoader\n",
        "from torch.amp import GradScaler, autocast\n",
        "\n",
        "import torchvision\n",
        "from torchvision import transforms\n",
        "from torchvision.transforms import ToPILImage\n",
        "\n",
        "from samplings import top_p_sampling, top_k_sampling, temperature_sampling"
      ]
    },
    {
      "cell_type": "code",
      "execution_count": 4,
      "metadata": {
        "id": "B1-7giDMn3Et"
      },
      "outputs": [],
      "source": [
        "device = torch.device(\"cuda\" if torch.cuda.is_available() else \"cpu\")"
      ]
    },
    {
      "cell_type": "code",
      "execution_count": null,
      "metadata": {
        "id": "4CloidSDoH4y"
      },
      "outputs": [],
      "source": [
        "torch.manual_seed(42)"
      ]
    },
    {
      "cell_type": "code",
      "execution_count": 484,
      "metadata": {
        "id": "qrkJ1EszoH7J"
      },
      "outputs": [],
      "source": [
        "PATCH_SIZE          = 16                # S\n",
        "PATCH_LENGTH        = 1024\n",
        "PATCH_NUM_LAYERS    = 3                 # number of layers in the encoder\n",
        "HIDDEN_SIZE         = 384               # H, embed_dim\n",
        "N_HEADS             = HIDDEN_SIZE // 64\n",
        "DROPOUT             = 0.1\n",
        "QKV_BIAS            = False\n",
        "\n",
        "VOCAB_SIZE          = 256 + 1           # 256 + <eop> token, V\n",
        "SPECIAL_TOKEN_ID    = 256\n",
        "LAYER_NORM_EPSILON  = 1e-5\n",
        "\n",
        "NUM_EPOCHS = 10\n",
        "BATCH_SIZE = 8\n",
        "LEARNING_RATE = 1e-5\n",
        "TOP_K = 3\n",
        "TOP_P = 0.99\n",
        "TEMPERATURE = 1\n",
        "\n",
        "INPUT_FILENAME = \"input.txt\"\n",
        "OUTPUT_FILENAME = \"generation.txt\""
      ]
    },
    {
      "cell_type": "markdown",
      "metadata": {
        "id": "YEk66IiT4a8w"
      },
      "source": [
        "## Dataset"
      ]
    },
    {
      "cell_type": "code",
      "execution_count": 202,
      "metadata": {
        "id": "2j_dyb16ZZQK"
      },
      "outputs": [],
      "source": [
        "def list_files_in_directory(directory):\n",
        "    file_list = []\n",
        "\n",
        "    for root, dirs, files in os.walk(directory):\n",
        "        for file in files:\n",
        "            file_path = os.path.join(root, file)\n",
        "            file_list.append(file_path)\n",
        "    return file_list"
      ]
    },
    {
      "cell_type": "code",
      "execution_count": 389,
      "metadata": {
        "id": "oUTmAL7jbGw2"
      },
      "outputs": [],
      "source": [
        "def read_bytes(filename):\n",
        "\n",
        "    ext = filename.split('.')[-1]\n",
        "    ext = bytearray(ext, 'utf-8')\n",
        "    ext = [byte for byte in ext][:PATCH_SIZE]\n",
        "\n",
        "    with open(filename, 'rb') as f:\n",
        "        file_bytes = f.read()\n",
        "\n",
        "    bytes = []\n",
        "    for byte in file_bytes:\n",
        "        bytes.append(byte)\n",
        "\n",
        "    if len(bytes)%PATCH_SIZE!=0:\n",
        "        bytes = bytes + [256] * (PATCH_SIZE - len(bytes) % PATCH_SIZE)\n",
        "\n",
        "    bos_patch = ext + [256] * (PATCH_SIZE - len(ext))\n",
        "    bytes = bos_patch + bytes + [256] * PATCH_SIZE\n",
        "\n",
        "    if len(bytes) > PATCH_LENGTH*PATCH_SIZE:\n",
        "        choices = [\"head\", \"body\", \"tail\"]\n",
        "        choice = random.choice(choices)\n",
        "        if choice == \"head\":\n",
        "            bytes = bytes[:PATCH_LENGTH*PATCH_SIZE]\n",
        "        elif choice == \"body\" and len(bytes) > (PATCH_LENGTH+1)*PATCH_SIZE:\n",
        "            start = random.randint(1, len(bytes)//PATCH_SIZE-PATCH_LENGTH)\n",
        "            bytes = bytes[start*PATCH_SIZE:(start+PATCH_LENGTH)*PATCH_SIZE]\n",
        "        else:\n",
        "            bytes = bytes[-PATCH_LENGTH*PATCH_SIZE:]\n",
        "\n",
        "    masks = [1] * (len(bytes)//PATCH_SIZE)\n",
        "\n",
        "    return bytes, masks"
      ]
    },
    {
      "cell_type": "markdown",
      "metadata": {
        "id": "OVfcg477bXd3"
      },
      "source": [
        "### Text dataset"
      ]
    },
    {
      "cell_type": "code",
      "execution_count": null,
      "metadata": {
        "collapsed": true,
        "id": "UxSb-SY0bZKM"
      },
      "outputs": [],
      "source": [
        "dataset = load_dataset(\"wikimedia/wikipedia\", \"20231101.hu\", split=\"train[:10%]\", cache_dir=\"/content/hf_cache\")"
      ]
    },
    {
      "cell_type": "code",
      "execution_count": 205,
      "metadata": {
        "id": "2vxG1uXeb1yq"
      },
      "outputs": [],
      "source": [
        "dataset = dataset.train_test_split(test_size=0.1, seed=42)"
      ]
    },
    {
      "cell_type": "code",
      "execution_count": 206,
      "metadata": {
        "colab": {
          "base_uri": "https://localhost:8080/"
        },
        "id": "RS9ARbAob1mh",
        "outputId": "d8d77669-1ee8-4130-961e-95c522c5265c"
      },
      "outputs": [
        {
          "data": {
            "text/plain": [
              "DatasetDict({\n",
              "    train: Dataset({\n",
              "        features: ['id', 'url', 'title', 'text'],\n",
              "        num_rows: 47918\n",
              "    })\n",
              "    test: Dataset({\n",
              "        features: ['id', 'url', 'title', 'text'],\n",
              "        num_rows: 5325\n",
              "    })\n",
              "})"
            ]
          },
          "execution_count": 206,
          "metadata": {},
          "output_type": "execute_result"
        }
      ],
      "source": [
        "dataset"
      ]
    },
    {
      "cell_type": "code",
      "execution_count": 496,
      "metadata": {
        "id": "5xTkieRfc1SU"
      },
      "outputs": [],
      "source": [
        "TRAIN_FOLDERS = \"wikipedia/train\"\n",
        "EVAL_FOLDERS = \"wikipedia/test\"\n",
        "\n",
        "os.makedirs(TRAIN_FOLDERS, exist_ok=True)\n",
        "os.makedirs(EVAL_FOLDERS, exist_ok=True)"
      ]
    },
    {
      "cell_type": "code",
      "execution_count": 497,
      "metadata": {
        "id": "lBhurMtrc8pU"
      },
      "outputs": [],
      "source": [
        "for i in range(len(dataset[\"train\"])):\n",
        "    text = dataset[\"train\"][i][\"text\"]\n",
        "    with open(f\"{TRAIN_FOLDERS}/text_{i}.txt\", \"w\") as f:\n",
        "        f.write(text)"
      ]
    },
    {
      "cell_type": "code",
      "execution_count": 498,
      "metadata": {
        "id": "JIxUEQVEczbi"
      },
      "outputs": [],
      "source": [
        "for i in range(len(dataset[\"test\"])):\n",
        "    text = dataset[\"test\"][i][\"text\"]\n",
        "    with open(f\"{EVAL_FOLDERS}/text_{i}.txt\", \"w\") as f:\n",
        "        f.write(text)"
      ]
    },
    {
      "cell_type": "code",
      "execution_count": 499,
      "metadata": {
        "id": "d9ln8PoSd_WQ"
      },
      "outputs": [],
      "source": [
        "train_files = list_files_in_directory(TRAIN_FOLDERS)\n",
        "test_files = list_files_in_directory(EVAL_FOLDERS)"
      ]
    },
    {
      "cell_type": "code",
      "execution_count": 500,
      "metadata": {
        "id": "ugZ8C0TteAPg"
      },
      "outputs": [],
      "source": [
        "assert len(train_files) == len(dataset[\"train\"]), f\"{len(train_files)} != {len(dataset['train'])}\"\n",
        "assert len(test_files) == len(dataset[\"test\"]), f\"{len(test_files)} != {len(dataset['test'])}\""
      ]
    },
    {
      "cell_type": "code",
      "execution_count": 501,
      "metadata": {
        "id": "W26CVvlCeKuQ"
      },
      "outputs": [],
      "source": [
        "class ByteDataset(Dataset):\n",
        "    def __init__(self, filenames, split='train'):\n",
        "        print(f\"Autoregressive Training Mode: loading {len(filenames)} files for {split}\")\n",
        "        self.filenames = filenames\n",
        "\n",
        "    def __len__(self):\n",
        "        return len(self.filenames)\n",
        "\n",
        "    def __getitem__(self, idx):\n",
        "        filename = self.filenames[idx]\n",
        "        file_bytes, file_masks = read_bytes(filename)\n",
        "        file_bytes = torch.tensor(file_bytes, dtype=torch.long)\n",
        "        file_masks = torch.tensor(file_masks, dtype=torch.long)\n",
        "        return file_bytes, file_masks"
      ]
    },
    {
      "cell_type": "code",
      "execution_count": 502,
      "metadata": {
        "colab": {
          "base_uri": "https://localhost:8080/"
        },
        "id": "BdfFY_ojek--",
        "outputId": "c53bc516-630e-4726-a4f0-ee9f07f173ea"
      },
      "outputs": [
        {
          "name": "stdout",
          "output_type": "stream",
          "text": [
            "Autoregressive Training Mode: loading 47918 files for train\n",
            "Autoregressive Training Mode: loading 5325 files for test\n"
          ]
        }
      ],
      "source": [
        "train_set = ByteDataset(train_files, split='train')\n",
        "test_set = ByteDataset(test_files, split='test')"
      ]
    },
    {
      "cell_type": "code",
      "execution_count": 503,
      "metadata": {
        "id": "jf-p3Q6-eo0Q"
      },
      "outputs": [],
      "source": [
        "def collate_batch(input_batches):\n",
        "    input_patches, input_masks = zip(*input_batches)\n",
        "    input_patches = torch.nn.utils.rnn.pad_sequence(input_patches, batch_first=True, padding_value=256)\n",
        "    input_masks = torch.nn.utils.rnn.pad_sequence(input_masks, batch_first=True, padding_value=0)\n",
        "    return input_patches.to(device), input_masks.to(device)"
      ]
    },
    {
      "cell_type": "code",
      "execution_count": 504,
      "metadata": {
        "id": "62uw2cg8evGc"
      },
      "outputs": [],
      "source": [
        "train_set = torch.utils.data.DataLoader(train_set, batch_size=BATCH_SIZE, collate_fn=collate_batch, shuffle=True, num_workers=0)\n",
        "test_set = torch.utils.data.DataLoader(test_set, batch_size=BATCH_SIZE, collate_fn=collate_batch, shuffle=False, num_workers=0)"
      ]
    },
    {
      "cell_type": "markdown",
      "metadata": {
        "id": "fsrlMQHNU17J"
      },
      "source": [
        "### Image Dataset"
      ]
    },
    {
      "cell_type": "code",
      "execution_count": 449,
      "metadata": {
        "id": "clXkVM794ch3"
      },
      "outputs": [],
      "source": [
        "transform = transforms.Compose([\n",
        "    transforms.ToTensor(),\n",
        "    transforms.Normalize((0.5, 0.5, 0.5), (0.5, 0.5, 0.5))\n",
        "])"
      ]
    },
    {
      "cell_type": "code",
      "execution_count": 450,
      "metadata": {
        "id": "3LK34mKD4crB"
      },
      "outputs": [],
      "source": [
        "train_data = torchvision.datasets.CIFAR10(root='./data', train=True, download=True, transform=transform)\n",
        "test_data = torchvision.datasets.CIFAR10(root='./data', train=False, download=True, transform=transform)"
      ]
    },
    {
      "cell_type": "code",
      "execution_count": 451,
      "metadata": {
        "colab": {
          "base_uri": "https://localhost:8080/"
        },
        "id": "j3Ee4V-KZAi3",
        "outputId": "52f06581-e73c-4346-d3b4-348d59c37c09"
      },
      "outputs": [
        {
          "name": "stdout",
          "output_type": "stream",
          "text": [
            "{'airplane': 0, 'automobile': 1, 'bird': 2, 'cat': 3, 'deer': 4, 'dog': 5, 'frog': 6, 'horse': 7, 'ship': 8, 'truck': 9}\n"
          ]
        }
      ],
      "source": [
        "class_names = train_data.classes\n",
        "class_dict = train_data.class_to_idx\n",
        "print(class_dict)"
      ]
    },
    {
      "cell_type": "code",
      "execution_count": 473,
      "metadata": {
        "id": "ZeR3XjncWYf7"
      },
      "outputs": [],
      "source": [
        "TRAIN_FOLDERS = \"cifar100/train\"\n",
        "EVAL_FOLDERS = \"cifar100/test\"\n",
        "\n",
        "os.makedirs(TRAIN_FOLDERS, exist_ok=True)\n",
        "os.makedirs(EVAL_FOLDERS, exist_ok=True)"
      ]
    },
    {
      "cell_type": "code",
      "execution_count": 453,
      "metadata": {
        "id": "yyHxV5JzYOra"
      },
      "outputs": [],
      "source": [
        "for i in range(len(train_data)):\n",
        "    img_tensor, label = train_data[i]\n",
        "    img = transforms.ToPILImage()(img_tensor) # PIL auto converts to 8-bit per channel\n",
        "    img.save(f\"cifar100/train/image_{i}_label_{label}.bmp\", format=\"BMP\")\n",
        "\n",
        "for i in range(len(test_data)):\n",
        "    img_tensor, label = test_data[i]\n",
        "    img = transforms.ToPILImage()(img_tensor) # PIL auto converts to 8-bit per channel\n",
        "    img.save(f\"cifar100/test/image_{i}_label_{label}.bmp\", format=\"BMP\")"
      ]
    },
    {
      "cell_type": "code",
      "execution_count": 474,
      "metadata": {
        "id": "uP8g904iZdHz"
      },
      "outputs": [],
      "source": [
        "train_files = list_files_in_directory(TRAIN_FOLDERS)\n",
        "test_files = list_files_in_directory(EVAL_FOLDERS)"
      ]
    },
    {
      "cell_type": "code",
      "execution_count": 475,
      "metadata": {
        "id": "OmzT24EGWbZ_"
      },
      "outputs": [],
      "source": [
        "class ByteDataset(Dataset):\n",
        "    def __init__(self, filenames, split='train'):\n",
        "        print(f\"Classification Mode: Loading {len(filenames)} files for {split}\")\n",
        "        self.filenames = []\n",
        "        self.labels = {}\n",
        "\n",
        "        for filename in tqdm(filenames):\n",
        "            file_size = os.path.getsize(filename)\n",
        "            file_size = math.ceil(file_size / PATCH_SIZE)\n",
        "            ext = filename.split('.')[-1]\n",
        "            label = os.path.basename(filename).split('_label_')[1]\n",
        "            label = label.replace(\".bmp\", \"\")\n",
        "\n",
        "            self.filenames.append((filename, label))\n",
        "            #if label not in self.labels:\n",
        "            #    self.labels[label] = len(self.labels)\n",
        "\n",
        "    def __len__(self):\n",
        "        return len(self.filenames)\n",
        "\n",
        "    def __getitem__(self, idx):\n",
        "\n",
        "        filename, label = self.filenames[idx]\n",
        "        file_bytes, file_masks = read_bytes(filename)\n",
        "\n",
        "        file_bytes = torch.tensor(file_bytes, dtype=torch.long)\n",
        "        label = torch.tensor(int(label), dtype=torch.long)\n",
        "\n",
        "        return file_bytes, label"
      ]
    },
    {
      "cell_type": "code",
      "execution_count": 476,
      "metadata": {
        "colab": {
          "base_uri": "https://localhost:8080/"
        },
        "id": "ogZXxZyTbDIG",
        "outputId": "13d9093b-b292-4a77-f9ee-47293cf60f7f"
      },
      "outputs": [
        {
          "name": "stdout",
          "output_type": "stream",
          "text": [
            "Classification Mode: Loading 50000 files for train\n"
          ]
        },
        {
          "name": "stderr",
          "output_type": "stream",
          "text": [
            "100%|██████████| 50000/50000 [00:00<00:00, 235893.21it/s]\n"
          ]
        },
        {
          "name": "stdout",
          "output_type": "stream",
          "text": [
            "Classification Mode: Loading 10000 files for test\n"
          ]
        },
        {
          "name": "stderr",
          "output_type": "stream",
          "text": [
            "100%|██████████| 10000/10000 [00:00<00:00, 236253.56it/s]\n"
          ]
        }
      ],
      "source": [
        "train_set = ByteDataset(train_files, split='train')\n",
        "test_set = ByteDataset(test_files, split='test')"
      ]
    },
    {
      "cell_type": "code",
      "execution_count": 477,
      "metadata": {
        "id": "uCG-hD4ud9KD"
      },
      "outputs": [],
      "source": [
        "def collate_batch(input_patches):\n",
        "\n",
        "    input_patches, labels = zip(*input_patches)\n",
        "    input_patches = torch.nn.utils.rnn.pad_sequence(input_patches, batch_first=True, padding_value=256)\n",
        "    labels = torch.stack(labels, dim=0)\n",
        "\n",
        "    return input_patches.to(device), labels.to(device)"
      ]
    },
    {
      "cell_type": "code",
      "execution_count": 478,
      "metadata": {
        "id": "W-CUYwO4WAWl"
      },
      "outputs": [],
      "source": [
        "train_set = torch.utils.data.DataLoader(train_set, batch_size=BATCH_SIZE, collate_fn=collate_batch, shuffle=True, num_workers=0)\n",
        "test_set = torch.utils.data.DataLoader(test_set, batch_size=BATCH_SIZE, collate_fn=collate_batch, shuffle=False, num_workers=0)"
      ]
    },
    {
      "cell_type": "markdown",
      "metadata": {
        "id": "MRUUlSTSuXqZ"
      },
      "source": [
        "## bGPT"
      ]
    },
    {
      "cell_type": "markdown",
      "metadata": {
        "id": "waPabi7CZv8Y"
      },
      "source": [
        "### Linear Projection Layer"
      ]
    },
    {
      "cell_type": "code",
      "execution_count": 226,
      "metadata": {
        "id": "WJ-jjV_p7p4J"
      },
      "outputs": [],
      "source": [
        "class LinearProjectionLayer(nn.Module):\n",
        "    def __init__(self):\n",
        "        super().__init__()\n",
        "\n",
        "        self.w_linear = nn.Linear(PATCH_SIZE * VOCAB_SIZE, HIDDEN_SIZE, bias=False)\n",
        "\n",
        "    def forward(self, patches):                                                   # (P, 1, S)\n",
        "        patches = torch.nn.functional.one_hot(patches, num_classes=VOCAB_SIZE)     # (P, 1, S, V)\n",
        "        patches = torch.flatten(patches, start_dim=2)                               # (P, 1, S x V)\n",
        "        embed = self.w_linear(patches.float())                                      # (P, 1, H)\n",
        "        return embed"
      ]
    },
    {
      "cell_type": "code",
      "execution_count": 227,
      "metadata": {
        "id": "SMcCB9cHqTyC"
      },
      "outputs": [],
      "source": [
        "# lpl = LinearProjectionLayer().to(device)"
      ]
    },
    {
      "cell_type": "markdown",
      "metadata": {
        "id": "GOu-QpcgZzh-"
      },
      "source": [
        "### Patch-Level Decoder"
      ]
    },
    {
      "cell_type": "code",
      "execution_count": 228,
      "metadata": {
        "id": "895OyqtjrGSi"
      },
      "outputs": [],
      "source": [
        "class MLP(nn.Module):\n",
        "    def __init__(self):\n",
        "        super().__init__()\n",
        "\n",
        "        self.c_fc = nn.Linear(HIDDEN_SIZE, HIDDEN_SIZE * 4)\n",
        "        self.c_proj = nn.Linear(HIDDEN_SIZE * 4, HIDDEN_SIZE)\n",
        "        self.act = nn.GELU()\n",
        "        self.dropout = nn.Dropout(DROPOUT)\n",
        "\n",
        "    def forward(self, x):\n",
        "        x = self.c_fc(x)\n",
        "        x = self.act(x)\n",
        "        x = self.c_proj(x)\n",
        "        x = self.dropout(x)\n",
        "        return x"
      ]
    },
    {
      "cell_type": "code",
      "execution_count": 229,
      "metadata": {
        "id": "vKxNTl5m1piS"
      },
      "outputs": [],
      "source": [
        "def create_causal_mask(t: int, device=None):\n",
        "    return torch.triu(torch.ones(t, t, device=device), diagonal=1).bool()"
      ]
    },
    {
      "cell_type": "code",
      "execution_count": 230,
      "metadata": {
        "id": "-UzwoE01c4oe"
      },
      "outputs": [],
      "source": [
        "class MultiQueryAttention(nn.Module):\n",
        "\n",
        "    def __init__(self, d_model: int, h: int):\n",
        "        super().__init__()\n",
        "\n",
        "        assert d_model % h == 0, \"d_model is indivisible by h (number of heads)\"\n",
        "\n",
        "        self.d_model = d_model\n",
        "        self.h = h\n",
        "        self.d_k = self.d_v = d_model // h\n",
        "\n",
        "        self.q_proj = nn.Linear(d_model, h * self.d_k)\n",
        "        self.k_proj = nn.Linear(d_model, self.d_k)\n",
        "        self.v_proj = nn.Linear(d_model, self.d_v)\n",
        "\n",
        "        self.out_proj = nn.Linear(h * self.d_v, d_model)\n",
        "\n",
        "    def forward(self, x: torch.Tensor):\n",
        "\n",
        "        b, t, d_model = x.shape\n",
        "\n",
        "        q = self.q_proj(x).view(b, self.h, t, self.d_k)\n",
        "        k = self.k_proj(x).view(b, 1, t, self.d_k)\n",
        "        v = self.v_proj(x).view(b, 1, t, self.d_v)\n",
        "\n",
        "        k = k.repeat_interleave(self.h, dim=1)\n",
        "        v = v.repeat_interleave(self.h, dim=1)\n",
        "\n",
        "        # (b, h, t, t) = (b, h, t, d_k) @ (b, h, d_k, t)\n",
        "        attn_scores = torch.matmul(q, k.transpose(2, 3))\n",
        "\n",
        "        attn_mask = create_causal_mask(t, x.device) # (t, t)\n",
        "        # casual attention (set all true positions to -inf)\n",
        "        attn_scores.masked_fill_(attn_mask, -torch.inf)\n",
        "\n",
        "        attn_weights = torch.softmax(attn_scores / math.sqrt(self.d_k), dim=-1)\n",
        "\n",
        "        # (b, h, t, d_v) = (b, h, t, t) @ (b, h, t, d_v)\n",
        "        # (b, t, h, d_v) <- (b, h, t, d_v)\n",
        "        context = torch.matmul(attn_weights, v).transpose(1, 2).contiguous()\n",
        "\n",
        "        context = context.view(b, t, self.d_model)\n",
        "\n",
        "        return self.out_proj(context)"
      ]
    },
    {
      "cell_type": "code",
      "execution_count": 231,
      "metadata": {
        "id": "xwM0yz6ucyht"
      },
      "outputs": [],
      "source": [
        "class DecoderBlock(nn.Module):\n",
        "    def __init__(self):\n",
        "        super().__init__()\n",
        "\n",
        "        self.layer_norm1 = nn.LayerNorm(HIDDEN_SIZE)\n",
        "        self.masked_mqa = MultiQueryAttention(HIDDEN_SIZE, N_HEADS)\n",
        "        self.layer_norm2 = nn.LayerNorm(HIDDEN_SIZE)\n",
        "\n",
        "        self.mlp = MLP()\n",
        "\n",
        "        self.dropout = nn.Dropout(DROPOUT)\n",
        "\n",
        "    def forward(self, x, ):\n",
        "\n",
        "        residual = x\n",
        "        x = self.layer_norm1(x)\n",
        "        x = self.masked_mqa(x)\n",
        "        x = x + residual\n",
        "\n",
        "        residual = x\n",
        "        x = self.layer_norm2(x)\n",
        "        x = self.mlp(x)\n",
        "        x = x + residual\n",
        "\n",
        "        return x"
      ]
    },
    {
      "cell_type": "code",
      "execution_count": 232,
      "metadata": {
        "id": "F5fvA2Uhvq5e"
      },
      "outputs": [],
      "source": [
        "class PatchLevelDecoder(nn.Module):\n",
        "    def __init__(self):\n",
        "        super().__init__()\n",
        "\n",
        "        self.patch_embedding = LinearProjectionLayer()\n",
        "        self.wpe = nn.Embedding(PATCH_LENGTH, HIDDEN_SIZE) # positional embedding\n",
        "\n",
        "        self.drop = nn.Dropout(DROPOUT)\n",
        "\n",
        "        self.layers = nn.ModuleList([DecoderBlock() for i in range(PATCH_NUM_LAYERS)])\n",
        "        self.layer_norm = nn.LayerNorm(HIDDEN_SIZE, eps = LAYER_NORM_EPSILON)\n",
        "\n",
        "    def forward(self, patches): # (B, S)\n",
        "\n",
        "        patch_embeds = self.patch_embedding(patches) # (B, P, H)\n",
        "\n",
        "        # add positional embeddigns, [0, 1, ..., P_n]\n",
        "        input_shape = patch_embeds.size()[:-1] # P_n\n",
        "        position_ids = torch.arange(0, input_shape[-1], dtype=torch.long, device=device)\n",
        "\n",
        "        position_embeds = self.wpe(position_ids)\n",
        "        hidden_states = patch_embeds + position_embeds\n",
        "        hidden_states = self.drop(hidden_states) # (B, P, H)\n",
        "\n",
        "        for layer in self.layers:\n",
        "            hidden_states = layer(hidden_states)\n",
        "        hidden_states = self.layer_norm(hidden_states)\n",
        "\n",
        "        return hidden_states # (B, P, H)"
      ]
    },
    {
      "cell_type": "markdown",
      "metadata": {
        "id": "bm4P6Fk2gA4X"
      },
      "source": [
        "### Byte-Level Decoder"
      ]
    },
    {
      "cell_type": "code",
      "execution_count": 233,
      "metadata": {
        "id": "226Lafg0vq-Z"
      },
      "outputs": [],
      "source": [
        "class ByteLevelDecoder(nn.Module):\n",
        "    def __init__(self):\n",
        "        super().__init__()\n",
        "\n",
        "        self.wte = nn.Embedding(VOCAB_SIZE, HIDDEN_SIZE)\n",
        "        self.wpe = nn.Embedding(PATCH_SIZE + 1, HIDDEN_SIZE)\n",
        "\n",
        "        self.drop = nn.Dropout(DROPOUT)\n",
        "\n",
        "        self.layers = nn.ModuleList([DecoderBlock() for i in range(PATCH_NUM_LAYERS)])\n",
        "        self.layer_norm = nn.LayerNorm(HIDDEN_SIZE, eps=LAYER_NORM_EPSILON)\n",
        "\n",
        "        self.lm_head = nn.Linear(HIDDEN_SIZE, VOCAB_SIZE, bias=False)\n",
        "\n",
        "    def forward(self, encoded_patches, target_patches): # (N, H), (N, S)\n",
        "\n",
        "        # prepend <eop> special token to patch, (P, 1+S)\n",
        "        target_patches = torch.cat(\n",
        "            (torch.ones_like(target_patches[:,0:1]) * SPECIAL_TOKEN_ID, target_patches), dim=1\n",
        "        )\n",
        "        inputs_embeds = self.wte(target_patches)\n",
        "\n",
        "        # (N, 1+S, H) <- concatenate[(N, 1, H), (N, 1+S, H)] <- concatenate[(N, H), (N, 1+S, H)]\n",
        "        # where N = (B x P) - invalid patches\n",
        "        inputs_embeds = torch.cat((encoded_patches.unsqueeze(1), inputs_embeds[:,1:,:]), dim=1)\n",
        "\n",
        "        # positional embeddings [0, 1, ..., S]\n",
        "        input_shape = inputs_embeds.size()[:-1] # S\n",
        "        position_ids = torch.arange(0, input_shape[-1], dtype=torch.long, device=device)\n",
        "        position_embeds = self.wpe(position_ids) # (S+1, H)\n",
        "\n",
        "        hidden_states = inputs_embeds + position_embeds # (P, 1+S, H)\n",
        "        hidden_states = self.drop(hidden_states) # (P, 1+S, H)\n",
        "\n",
        "        for layer in self.layers:\n",
        "            hidden_states = layer(hidden_states)\n",
        "        hidden_states = self.layer_norm(hidden_states)\n",
        "        logits = self.lm_head(hidden_states)\n",
        "        return logits, target_patches\n",
        "\n",
        "    def generate(self, encoded_patches, tokens):\n",
        "\n",
        "        # decoder is independent for each patch -> only need last patch\n",
        "        encoded_patch = encoded_patches[0][-1] # (H)\n",
        "\n",
        "        # encoded_patch = encoded_patch.reshape(1, 1, -1) # (1,1, H)\n",
        "        encoded_patch = encoded_patch.reshape(1, -1) # (1, H)\n",
        "        tokens = tokens.reshape(1, -1) # (1, S)\n",
        "\n",
        "        logits, _ = self.forward(encoded_patch, tokens)\n",
        "        logit = logits.squeeze(0)[-1] # next token\n",
        "        # probs = torch.nn.functional.softmax(logit, dim=-1).cpu().detach().numpy()\n",
        "        probs = torch.nn.functional.softmax(logit, dim=-1)\n",
        "        return probs"
      ]
    },
    {
      "cell_type": "markdown",
      "metadata": {
        "id": "WancvRCkDEvs"
      },
      "source": [
        "## Language Model"
      ]
    },
    {
      "cell_type": "code",
      "execution_count": 445,
      "metadata": {
        "id": "u6NvTxedoR0I"
      },
      "outputs": [],
      "source": [
        "class bGPT(nn.Module):\n",
        "    def __init__(self):\n",
        "        super().__init__()\n",
        "\n",
        "        self.linear_proj = LinearProjectionLayer()\n",
        "        self.patch_level_decoder = PatchLevelDecoder()\n",
        "        self.byte_level_decoder = ByteLevelDecoder()\n",
        "\n",
        "    def forward(self, patches, masks): # (B, T), (B, P), T = tokens\n",
        "\n",
        "        patches = patches.reshape(len(patches), -1, PATCH_SIZE) # (B, P, S)\n",
        "        encoded_patches = self.patch_level_decoder(patches) # (B, P, H)\n",
        "\n",
        "        # [[1,1,1, ..., 1,0,0,0], ...] <- [[1,1,1, ..., 1,1,0,0], ...]\n",
        "        left_shift_masks = masks * (masks.flip(1).cumsum(1).flip(1) > 1)\n",
        "        masks[:, 0] = 0 # [[0,1,1, ..., 1,0,0], ...] <- [[1,1,1, ..., 1,0,0], ...]\n",
        "\n",
        "        encoded_patches = encoded_patches[left_shift_masks == 1] # (N, H) = ((B x P) - invalid patches, H)\n",
        "        patches = patches[masks == 1] # (N, S) = ((B x P) - invalid patches, S)\n",
        "\n",
        "        assert encoded_patches.shape[0] == patches.shape[0], f\"{encoded_patches.shape} != {patches.shape}\"\n",
        "\n",
        "        logits, labels = self.byte_level_decoder(encoded_patches, patches) # (N, 1+S, V)\n",
        "        return logits, labels\n",
        "\n",
        "    def generate(self, patches, masks): # (B, T), (B, P)\n",
        "\n",
        "        patches = patches.unsqueeze(1) # (B, 1, T)\n",
        "\n",
        "        if patches.shape[-1] % PATCH_SIZE != 0:\n",
        "            tokens = patches[:,:,-(patches.shape[-1]%PATCH_SIZE):].squeeze(0).squeeze(0)\n",
        "            patches = patches[:,:,:-(patches.shape[-1]%PATCH_SIZE)]\n",
        "        else:\n",
        "            tokens = torch.tensor([], device=device)\n",
        "\n",
        "        patches = patches.reshape(len(patches), -1, PATCH_SIZE) # (B, P, S)\n",
        "\n",
        "        encoded_patches = model.patch_level_decoder(patches) # (B, P, H)\n",
        "\n",
        "        generated_patch = []\n",
        "\n",
        "        while True:\n",
        "\n",
        "            probs = model.byte_level_decoder.generate(encoded_patches, tokens) # (H), (1, S)\n",
        "\n",
        "            probs = top_k_sampling(probs)\n",
        "            probs = top_p_sampling(probs)\n",
        "            token = temperature_sampling(probs, temperature=TEMPERATURE)\n",
        "\n",
        "            generated_patch.append(token)\n",
        "\n",
        "            if token == SPECIAL_TOKEN_ID or len(tokens) >= PATCH_SIZE:\n",
        "                break\n",
        "            else:\n",
        "                tokens = torch.cat((tokens, torch.tensor([token], device=device)), dim=0)\n",
        "\n",
        "        return generated_patch"
      ]
    },
    {
      "cell_type": "code",
      "execution_count": 269,
      "metadata": {
        "colab": {
          "base_uri": "https://localhost:8080/"
        },
        "id": "PW0mQSg9oSVZ",
        "outputId": "6c7267dc-55eb-475f-9af3-340e2b121109"
      },
      "outputs": [
        {
          "name": "stdout",
          "output_type": "stream",
          "text": [
            "Model parameters: 12.93 M\n"
          ]
        }
      ],
      "source": [
        "model = bGPT().to(device)\n",
        "params = sum(p.numel() for p in model.parameters() if p.requires_grad)\n",
        "print(f\"Model parameters: {params / 1e6:.2f} M\")"
      ]
    },
    {
      "cell_type": "markdown",
      "metadata": {
        "id": "l-KMCUZxXlQA"
      },
      "source": [
        "## Generation"
      ]
    },
    {
      "cell_type": "code",
      "execution_count": 430,
      "metadata": {
        "id": "4yko4cPWaTD0"
      },
      "outputs": [],
      "source": [
        "str_to_byte = lambda s: list(s.encode('utf-8'))\n",
        "byte_to_str = lambda b: bytes(b).decode('utf-8', errors='ignore')\n",
        "create_mask = lambda bytes_list: [1] * (len(bytes_list)//PATCH_SIZE)"
      ]
    },
    {
      "cell_type": "code",
      "execution_count": 440,
      "metadata": {
        "id": "YixXs8FKa9NI"
      },
      "outputs": [],
      "source": [
        "def generate(text_bytes: str, top_k=0, top_p=1, temperature=1.0, return_full_text = True):\n",
        "    text_bytes = str_to_byte(text_bytes)\n",
        "    prefix_len = len(text_bytes)\n",
        "\n",
        "    masks = create_mask(text_bytes)\n",
        "    masks = torch.tensor(masks, device=device) # (P)\n",
        "\n",
        "    input_patches = torch.tensor([text_bytes], device=device) # (1, ...), batch size=1\n",
        "\n",
        "    while input_patches.shape[1] < PATCH_LENGTH * PATCH_SIZE:\n",
        "\n",
        "        predicted_patch = model.generate(input_patches, masks) # (1, P)\n",
        "\n",
        "        for byte in predicted_patch:\n",
        "            if byte == 256:\n",
        "                break\n",
        "            text_bytes.append(byte)\n",
        "        if byte == 256:\n",
        "            break\n",
        "\n",
        "        predicted_patch = torch.tensor([predicted_patch], device=device)\n",
        "        input_patches = torch.cat([input_patches, predicted_patch], dim=1)\n",
        "\n",
        "    if not return_full_text:\n",
        "        text_bytes = text_bytes[prefix_len:]\n",
        "    with open(OUTPUT_FILENAME, 'wb') as file:\n",
        "        for byte in text_bytes:\n",
        "            file.write(bytes([byte]))\n",
        "    return byte_to_str(text_bytes)"
      ]
    },
    {
      "cell_type": "code",
      "execution_count": 446,
      "metadata": {
        "id": "4SeyncocaQ-e"
      },
      "outputs": [],
      "source": [
        "def top_k_sampling(probs, top_k = 10): # (V)\n",
        "    # get k largest element from logit with indices\n",
        "    top_probs, top_pos = torch.topk(probs, top_k)\n",
        "    # select top k possible tokens, assign -inf to all others in batch\n",
        "    probs = torch.where(\n",
        "        condition=probs < top_probs[-1],\n",
        "        input=torch.tensor(0, device=probs.device),\n",
        "        other=probs\n",
        "    )\n",
        "    # renormalize remaining probabilities\n",
        "    probs = probs / probs.sum(dim=-1, keepdim=True)\n",
        "    return probs\n",
        "\n",
        "def top_p_sampling(probs, top_p = 0.95): # (V)\n",
        "    # sort probabilities in descending order\n",
        "    probs_sort, probs_idx = torch.sort(probs, dim=-1, descending=True)\n",
        "    # create cumulative sum of elements\n",
        "    cumulative_probs = torch.cumsum(probs_sort, dim=-1)\n",
        "    # mark tokens having values over top_p\n",
        "    cutoff_idx = torch.sum(cumulative_probs <= top_p, dim=-1)\n",
        "    probs_sort[cutoff_idx+1:] = 0.0\n",
        "    # renormalize remaining probabilities\n",
        "    probs_sort = probs_sort / probs_sort.sum(dim=-1, keepdim=True)\n",
        "    # map back to original positions\n",
        "    probs = torch.gather(probs_sort, 0, probs_idx.argsort(-1))\n",
        "    return probs\n",
        "\n",
        "def temperature_sampling(probs, temperature = 1.0) -> torch.Tensor: # (V)\n",
        "    probs = torch.softmax(probs / temperature, dim=-1)\n",
        "    # get the idx of the vocab entry by multinomial sampling\n",
        "    idx_next = torch.multinomial(probs, num_samples=1)\n",
        "    return idx_next"
      ]
    },
    {
      "cell_type": "code",
      "execution_count": 447,
      "metadata": {
        "id": "-d77uNdf-917"
      },
      "outputs": [],
      "source": [
        "example = \"How can the net amount of entropy of the universe be massively decreased?\""
      ]
    },
    {
      "cell_type": "code",
      "execution_count": null,
      "metadata": {
        "collapsed": true,
        "id": "Nxqt3wyjA8Hh"
      },
      "outputs": [],
      "source": [
        "generate(example, return_full_text=False)"
      ]
    },
    {
      "cell_type": "markdown",
      "metadata": {
        "id": "DFAnbN7KcNzU"
      },
      "source": [
        "## Language Model Training"
      ]
    },
    {
      "cell_type": "code",
      "execution_count": 279,
      "metadata": {
        "id": "4DHwPSnCdN5d"
      },
      "outputs": [],
      "source": [
        "scaler = GradScaler()\n",
        "loss_fn = torch.nn.CrossEntropyLoss()\n",
        "optimizer = torch.optim.AdamW(model.parameters(), lr=LEARNING_RATE)\n",
        "lr_scheduler = get_scheduler(\n",
        "    name=\"cosine\",\n",
        "    optimizer=optimizer,\n",
        "    num_warmup_steps=NUM_EPOCHS * len(train_set) // 10,\n",
        "    num_training_steps=NUM_EPOCHS * len(train_set),\n",
        ")"
      ]
    },
    {
      "cell_type": "code",
      "execution_count": 281,
      "metadata": {
        "id": "DWKVft0sX5Mp"
      },
      "outputs": [],
      "source": [
        "def process_one_batch(batch):\n",
        "\n",
        "    input_patches, input_masks = batch                              # (B, P x S), (B, P)\n",
        "\n",
        "    logits, labels = model(input_patches, input_masks)              # (N, S+1, V), (N, S)\n",
        "\n",
        "    # drop last time step (can’t predict next token)\n",
        "    shift_logits = logits[..., :-1, :]                              # (N, S, V)\n",
        "\n",
        "    # drop first token (don’t predict <eop> token)\n",
        "    shift_labels = labels[..., 1:].contiguous()                     # (N, S)\n",
        "\n",
        "    # flattened logits and labels for loss\n",
        "    shift_logits = shift_logits.reshape(-1, shift_logits.size(-1))  # (N x S, V)\n",
        "    shift_labels = shift_labels.view(-1)                            # (N x S)\n",
        "\n",
        "    loss = loss_fn(shift_logits, shift_labels)\n",
        "    return loss"
      ]
    },
    {
      "cell_type": "code",
      "execution_count": 301,
      "metadata": {
        "id": "KeGlU364x6JM"
      },
      "outputs": [],
      "source": [
        "def train_epoch():\n",
        "\n",
        "    tqdm_train_set = tqdm(train_set)\n",
        "    total_train_loss = 0\n",
        "    iter_idx = 1\n",
        "    model.train()\n",
        "\n",
        "    train_steps = (NUM_EPOCHS-1) * len(train_set)\n",
        "\n",
        "    for batch in tqdm_train_set:\n",
        "\n",
        "        with autocast(device_type=\"cuda\"):\n",
        "            loss = process_one_batch(batch)\n",
        "        scaler.scale(loss).backward()\n",
        "        scaler.step(optimizer)\n",
        "        scaler.update()\n",
        "\n",
        "        lr_scheduler.step()\n",
        "        model.zero_grad(set_to_none=True)\n",
        "\n",
        "        total_train_loss += loss.item()\n",
        "        tqdm_train_set.set_postfix({'train_loss': total_train_loss / iter_idx})\n",
        "        train_steps += 1\n",
        "        iter_idx += 1\n",
        "    return total_train_loss / iter_idx"
      ]
    },
    {
      "cell_type": "code",
      "execution_count": 302,
      "metadata": {
        "id": "YSJRd4P7x6VK"
      },
      "outputs": [],
      "source": [
        "def eval_epoch():\n",
        "    tqdm_eval_set = tqdm(test_set)\n",
        "    total_eval_loss = 0\n",
        "    iter_idx = 1\n",
        "    model.eval()\n",
        "    for batch in tqdm_eval_set:\n",
        "        with torch.no_grad():\n",
        "            loss = process_one_batch(batch)\n",
        "            total_eval_loss += loss.item()\n",
        "        tqdm_eval_set.set_postfix({ 'eval_loss': total_eval_loss / iter_idx })\n",
        "        iter_idx += 1\n",
        "    return total_eval_loss / iter_idx"
      ]
    },
    {
      "cell_type": "code",
      "execution_count": 293,
      "metadata": {
        "id": "g7G91kzQzR68"
      },
      "outputs": [],
      "source": [
        "train_losses, eval_losses = [], []"
      ]
    },
    {
      "cell_type": "code",
      "execution_count": 390,
      "metadata": {
        "colab": {
          "base_uri": "https://localhost:8080/"
        },
        "id": "nzdZ2FwozZxZ",
        "outputId": "fd3df9f6-1eaf-44a8-fcee-8415cd903805"
      },
      "outputs": [
        {
          "name": "stdout",
          "output_type": "stream",
          "text": [
            "---------------------Epoch 1---------------------\n"
          ]
        },
        {
          "name": "stderr",
          "output_type": "stream",
          "text": [
            "100%|██████████| 6250/6250 [03:57<00:00, 26.33it/s, train_loss=1.31]\n",
            "100%|██████████| 1250/1250 [00:37<00:00, 33.20it/s, eval_loss=0.541]\n"
          ]
        },
        {
          "name": "stdout",
          "output_type": "stream",
          "text": [
            "---------------------Epoch 2---------------------\n"
          ]
        },
        {
          "name": "stderr",
          "output_type": "stream",
          "text": [
            "100%|██████████| 6250/6250 [03:56<00:00, 26.42it/s, train_loss=0.714]\n",
            "100%|██████████| 1250/1250 [00:37<00:00, 33.44it/s, eval_loss=0.43]\n"
          ]
        },
        {
          "name": "stdout",
          "output_type": "stream",
          "text": [
            "---------------------Epoch 3---------------------\n"
          ]
        },
        {
          "name": "stderr",
          "output_type": "stream",
          "text": [
            "100%|██████████| 6250/6250 [03:56<00:00, 26.41it/s, train_loss=0.527]\n",
            "100%|██████████| 1250/1250 [00:37<00:00, 33.48it/s, eval_loss=0.294]\n"
          ]
        }
      ],
      "source": [
        "for epoch in range(1, NUM_EPOCHS+1):\n",
        "    print('-' * 21 + \"Epoch \" + str(epoch) + '-' * 21)\n",
        "    train_loss = train_epoch()\n",
        "    eval_loss = eval_epoch()\n",
        "    train_losses.append(train_loss)\n",
        "    eval_losses.append(eval_loss)"
      ]
    },
    {
      "cell_type": "code",
      "execution_count": 393,
      "metadata": {
        "colab": {
          "base_uri": "https://localhost:8080/",
          "height": 589
        },
        "id": "skYI2VY8zgn4",
        "outputId": "a2b21f2b-88fd-426b-911b-540e9f3254c2"
      },
      "outputs": [
        {
          "data": {
            "text/plain": [
              "<matplotlib.legend.Legend at 0x7a1770a11290>"
            ]
          },
          "execution_count": 393,
          "metadata": {},
          "output_type": "execute_result"
        },
        {
          "data": {
            "image/png": "[encoded data removed]",
            "text/plain": [
              "<Figure size 1500x700 with 1 Axes>"
            ]
          },
          "metadata": {},
          "output_type": "display_data"
        }
      ],
      "source": [
        "plt.figure(figsize=(15, 7))\n",
        "\n",
        "epochs = range(NUM_EPOCHS)\n",
        "\n",
        "plt.plot(epochs, train_losses, label=\"train_loss\")\n",
        "plt.plot(epochs, eval_losses, label=\"test_loss\")\n",
        "plt.title(\"Loss\")\n",
        "plt.xlabel(\"Epochs\")\n",
        "plt.legend()"
      ]
    },
    {
      "cell_type": "markdown",
      "metadata": {
        "id": "5TchNe4ggDp8"
      },
      "source": [
        "## Classification Model"
      ]
    },
    {
      "cell_type": "code",
      "execution_count": 461,
      "metadata": {
        "id": "Pumvexb7h-wk"
      },
      "outputs": [],
      "source": [
        "LABELS_SIZE = len(train_data.classes)"
      ]
    },
    {
      "cell_type": "code",
      "execution_count": 462,
      "metadata": {
        "id": "ecnGh19jgGOW"
      },
      "outputs": [],
      "source": [
        "class bGPTForClassification(nn.Module):\n",
        "    def __init__(self):\n",
        "        super().__init__()\n",
        "\n",
        "        self.patch_level_decoder = PatchLevelDecoder()\n",
        "        self.classifier = torch.nn.Linear(HIDDEN_SIZE, LABELS_SIZE)\n",
        "\n",
        "        torch.nn.init.normal_(self.classifier.weight, std=0.02)\n",
        "\n",
        "    def forward(self, patches: torch.Tensor):  # (B, S)\n",
        "        patches = patches.reshape(len(patches), -1, PATCH_SIZE) # (B, P, S)\n",
        "        encoded_patches = self.patch_level_decoder(patches) # (B, P, H)\n",
        "        # average pooling, calculate average embedding across all patches in batch\n",
        "        encoded_patches = torch.mean(encoded_patches, dim=1) # (B, H)\n",
        "        return self.classifier(encoded_patches) # (B, LABELS)"
      ]
    },
    {
      "cell_type": "code",
      "execution_count": 463,
      "metadata": {
        "id": "yyvZf-VMgGlB"
      },
      "outputs": [],
      "source": [
        "model = bGPTForClassification().to(device)"
      ]
    },
    {
      "cell_type": "code",
      "execution_count": 464,
      "metadata": {
        "colab": {
          "base_uri": "https://localhost:8080/"
        },
        "id": "WaLb3FWJiXp7",
        "outputId": "9e8e7ff5-2796-40e1-8f4e-b97d431cc5ea"
      },
      "outputs": [
        {
          "name": "stdout",
          "output_type": "stream",
          "text": [
            "Model parameters: 6.56 M\n"
          ]
        }
      ],
      "source": [
        "print(f\"Model parameters: {sum(p.numel() for p in model.parameters() if p.requires_grad) / 1e6:.2f} M\")"
      ]
    },
    {
      "cell_type": "markdown",
      "metadata": {
        "id": "_z-EwOJfOUPs"
      },
      "source": [
        "## Classification Training"
      ]
    },
    {
      "cell_type": "code",
      "execution_count": 485,
      "metadata": {
        "id": "vL8jRazYOrkm"
      },
      "outputs": [],
      "source": [
        "scaler = GradScaler()\n",
        "optimizer = torch.optim.AdamW(model.parameters(), lr=LEARNING_RATE)\n",
        "loss_fn = torch.nn.CrossEntropyLoss()\n",
        "\n",
        "lr_scheduler = get_scheduler(\n",
        "    name=\"cosine\",\n",
        "    optimizer=optimizer,\n",
        "    num_warmup_steps=NUM_EPOCHS * len(train_set) // 10,\n",
        "    num_training_steps=NUM_EPOCHS * len(train_set),\n",
        ")"
      ]
    },
    {
      "cell_type": "code",
      "execution_count": 486,
      "metadata": {
        "id": "WKUg-Re22w1A"
      },
      "outputs": [],
      "source": [
        "def process_one_batch(batch):\n",
        "    input_patches, labels = batch\n",
        "    logits = model(input_patches)\n",
        "    loss = loss_fn(logits, labels)\n",
        "    prediction = torch.argmax(logits, dim=1)\n",
        "    acc_num = torch.sum(prediction == labels)\n",
        "    return loss, acc_num"
      ]
    },
    {
      "cell_type": "code",
      "execution_count": 487,
      "metadata": {
        "id": "HCQp9FRDjmx6"
      },
      "outputs": [],
      "source": [
        "def train_epoch():\n",
        "\n",
        "    tqdm_train_set = tqdm(train_set)\n",
        "    total_train_loss = 0\n",
        "    total_acc_num = 0\n",
        "    iter_idx = 1\n",
        "    model.train()\n",
        "\n",
        "    train_steps = (NUM_EPOCHS-1) * len(train_set)\n",
        "\n",
        "    for batch in tqdm_train_set:\n",
        "        with autocast(device_type=\"cuda\"):\n",
        "            loss, acc_num = process_one_batch(batch)\n",
        "        scaler.scale(loss).backward()\n",
        "        scaler.step(optimizer)\n",
        "        scaler.update()\n",
        "\n",
        "        lr_scheduler.step()\n",
        "        model.zero_grad(set_to_none=True)\n",
        "\n",
        "        total_train_loss += loss.item()\n",
        "        total_acc_num += acc_num.item()\n",
        "\n",
        "        tqdm_train_set.set_postfix({\n",
        "            'train_loss': total_train_loss / iter_idx,\n",
        "            'train_acc': total_acc_num / (iter_idx * BATCH_SIZE)\n",
        "        })\n",
        "\n",
        "        train_steps += 1\n",
        "        iter_idx += 1\n",
        "\n",
        "    acc = total_acc_num / ( (iter_idx-1) * BATCH_SIZE )\n",
        "    loss = total_train_loss / iter_idx\n",
        "    return acc, loss"
      ]
    },
    {
      "cell_type": "code",
      "execution_count": 488,
      "metadata": {
        "id": "JYyf6OmHkf3a"
      },
      "outputs": [],
      "source": [
        "def eval_epoch():\n",
        "\n",
        "    tqdm_eval_set = tqdm(test_set)\n",
        "    total_eval_loss = 0\n",
        "    total_acc_num = 0\n",
        "    iter_idx = 1\n",
        "    model.eval()\n",
        "\n",
        "    for batch in tqdm_eval_set:\n",
        "        with torch.no_grad():\n",
        "            loss, acc_num = process_one_batch(batch)\n",
        "            total_eval_loss += loss.item()\n",
        "            total_acc_num += acc_num.item()\n",
        "        tqdm_eval_set.set_postfix({\n",
        "            'eval_loss': total_eval_loss / iter_idx,\n",
        "            'eval_acc': total_acc_num / (iter_idx * BATCH_SIZE)\n",
        "        })\n",
        "        iter_idx += 1\n",
        "    acc = total_acc_num / ((iter_idx-1) * BATCH_SIZE)\n",
        "    loss = total_eval_loss / iter_idx\n",
        "    return acc, loss"
      ]
    },
    {
      "cell_type": "code",
      "execution_count": 489,
      "metadata": {
        "id": "6nRW6bgDFetQ"
      },
      "outputs": [],
      "source": [
        "train_accs, train_losses = [], []\n",
        "eval_accs, eval_losses = [], []"
      ]
    },
    {
      "cell_type": "code",
      "execution_count": 490,
      "metadata": {
        "colab": {
          "base_uri": "https://localhost:8080/"
        },
        "id": "1OmggJIWk25J",
        "outputId": "13316eb8-788d-40e8-b80e-726cfc23d5d7"
      },
      "outputs": [
        {
          "name": "stdout",
          "output_type": "stream",
          "text": [
            "---------------------Epoch 1---------------------\n"
          ]
        },
        {
          "name": "stderr",
          "output_type": "stream",
          "text": [
            "100%|██████████| 6250/6250 [01:54<00:00, 54.58it/s, train_loss=2.3, train_acc=0.112]\n",
            "100%|██████████| 1250/1250 [00:08<00:00, 139.77it/s, eval_loss=2.27, eval_acc=0.136]\n"
          ]
        },
        {
          "name": "stdout",
          "output_type": "stream",
          "text": [
            "---------------------Epoch 2---------------------\n"
          ]
        },
        {
          "name": "stderr",
          "output_type": "stream",
          "text": [
            "100%|██████████| 6250/6250 [01:54<00:00, 54.81it/s, train_loss=2.19, train_acc=0.191]\n",
            "100%|██████████| 1250/1250 [00:08<00:00, 140.87it/s, eval_loss=2.11, eval_acc=0.229]\n"
          ]
        },
        {
          "name": "stdout",
          "output_type": "stream",
          "text": [
            "---------------------Epoch 3---------------------\n"
          ]
        },
        {
          "name": "stderr",
          "output_type": "stream",
          "text": [
            "100%|██████████| 6250/6250 [01:54<00:00, 54.64it/s, train_loss=2.1, train_acc=0.239]\n",
            "100%|██████████| 1250/1250 [00:08<00:00, 141.25it/s, eval_loss=2.07, eval_acc=0.243]\n"
          ]
        },
        {
          "name": "stdout",
          "output_type": "stream",
          "text": [
            "---------------------Epoch 4---------------------\n"
          ]
        },
        {
          "name": "stderr",
          "output_type": "stream",
          "text": [
            "100%|██████████| 6250/6250 [01:53<00:00, 54.95it/s, train_loss=2.07, train_acc=0.252]\n",
            "100%|██████████| 1250/1250 [00:08<00:00, 139.63it/s, eval_loss=2.05, eval_acc=0.257]\n"
          ]
        },
        {
          "name": "stdout",
          "output_type": "stream",
          "text": [
            "---------------------Epoch 5---------------------\n"
          ]
        },
        {
          "name": "stderr",
          "output_type": "stream",
          "text": [
            "100%|██████████| 6250/6250 [01:53<00:00, 54.92it/s, train_loss=2.05, train_acc=0.261]\n",
            "100%|██████████| 1250/1250 [00:08<00:00, 139.98it/s, eval_loss=2.03, eval_acc=0.265]\n"
          ]
        },
        {
          "name": "stdout",
          "output_type": "stream",
          "text": [
            "---------------------Epoch 6---------------------\n"
          ]
        },
        {
          "name": "stderr",
          "output_type": "stream",
          "text": [
            "100%|██████████| 6250/6250 [01:53<00:00, 54.84it/s, train_loss=2.03, train_acc=0.268]\n",
            "100%|██████████| 1250/1250 [00:09<00:00, 138.30it/s, eval_loss=2.01, eval_acc=0.274]\n"
          ]
        },
        {
          "name": "stdout",
          "output_type": "stream",
          "text": [
            "---------------------Epoch 7---------------------\n"
          ]
        },
        {
          "name": "stderr",
          "output_type": "stream",
          "text": [
            "100%|██████████| 6250/6250 [01:53<00:00, 54.91it/s, train_loss=2.01, train_acc=0.274]\n",
            "100%|██████████| 1250/1250 [00:08<00:00, 140.36it/s, eval_loss=2, eval_acc=0.279]\n"
          ]
        },
        {
          "name": "stdout",
          "output_type": "stream",
          "text": [
            "---------------------Epoch 8---------------------\n"
          ]
        },
        {
          "name": "stderr",
          "output_type": "stream",
          "text": [
            "100%|██████████| 6250/6250 [01:53<00:00, 54.88it/s, train_loss=2, train_acc=0.278]\n",
            "100%|██████████| 1250/1250 [00:08<00:00, 140.95it/s, eval_loss=1.99, eval_acc=0.285]\n"
          ]
        },
        {
          "name": "stdout",
          "output_type": "stream",
          "text": [
            "---------------------Epoch 9---------------------\n"
          ]
        },
        {
          "name": "stderr",
          "output_type": "stream",
          "text": [
            "100%|██████████| 6250/6250 [01:53<00:00, 54.90it/s, train_loss=2, train_acc=0.281]\n",
            "100%|██████████| 1250/1250 [00:08<00:00, 140.12it/s, eval_loss=1.99, eval_acc=0.285]\n"
          ]
        },
        {
          "name": "stdout",
          "output_type": "stream",
          "text": [
            "---------------------Epoch 10---------------------\n"
          ]
        },
        {
          "name": "stderr",
          "output_type": "stream",
          "text": [
            "100%|██████████| 6250/6250 [01:53<00:00, 54.82it/s, train_loss=2, train_acc=0.28]\n",
            "100%|██████████| 1250/1250 [00:08<00:00, 139.55it/s, eval_loss=1.99, eval_acc=0.285]\n"
          ]
        }
      ],
      "source": [
        "for epoch in range(1, NUM_EPOCHS+1):\n",
        "    print('-' * 21 + \"Epoch \" + str(epoch) + '-' * 21)\n",
        "    train_acc, train_loss = train_epoch()\n",
        "    eval_acc, eval_loss = eval_epoch()\n",
        "\n",
        "    train_losses.append(train_loss)\n",
        "    train_accs.append(train_acc)\n",
        "    eval_losses.append(eval_loss)\n",
        "    eval_accs.append(eval_acc)"
      ]
    },
    {
      "cell_type": "code",
      "execution_count": null,
      "metadata": {
        "colab": {
          "base_uri": "https://localhost:8080/",
          "height": 486
        },
        "id": "hqd4VFajo7y9",
        "outputId": "7bab3cf0-c479-473e-ec3f-64072dd003fe"
      },
      "outputs": [
        {
          "data": {
            "text/plain": [
              "<matplotlib.legend.Legend at 0x7cd729e979d0>"
            ]
          },
          "execution_count": 131,
          "metadata": {},
          "output_type": "execute_result"
        },
        {
          "data": {
            "image/png": "[encoded data removed]",
            "text/plain": [
              "<Figure size 1500x700 with 2 Axes>"
            ]
          },
          "metadata": {},
          "output_type": "display_data"
        }
      ],
      "source": [
        "plt.figure(figsize=(15, 7))\n",
        "\n",
        "epochs = range(NUM_EPOCHS)\n",
        "\n",
        "plt.subplot(1, 2, 1)\n",
        "plt.plot(epochs, train_losses, label=\"train_loss\")\n",
        "plt.plot(epochs, eval_losses, label=\"test_loss\")\n",
        "plt.title(\"Loss\")\n",
        "plt.xlabel(\"Epochs\")\n",
        "plt.legend()\n",
        "\n",
        "plt.subplot(1, 2, 2)\n",
        "plt.plot(epochs, train_accs, label=\"train_accuracy\")\n",
        "plt.plot(epochs, eval_accs, label=\"test_accuracy\")\n",
        "plt.title(\"Accuracy\")\n",
        "plt.xlabel(\"Epochs\")\n",
        "plt.legend()"
      ]
    }
  ],
  "metadata": {
    "accelerator": "GPU",
    "colab": {
      "gpuType": "A100",
      "provenance": [],
      "toc_visible": true
    },
    "kernelspec": {
      "display_name": "Python 3",
      "name": "python3"
    },
    "language_info": {
      "name": "python"
    }
  },
  "nbformat": 4,
  "nbformat_minor": 0
}
